{
 "cells": [
  {
   "cell_type": "markdown",
   "metadata": {},
   "source": [
    "「データサイエンティスト協会スキル定義委員」が作成した「データサイエンス100本ノック（構造化データ加工編）」をRおよび開発環境RStudioを用いて取り組み、R NotebookのHTML形式で出力した。\n",
    "\n",
    "\n",
    "初めに以下のセルを実行してください\n",
    "必要なライブラリのインポートとデータ読み込みを行います\n",
    "利用が想定されるライブラリは以下セルでインポートしています\n",
    "その他利用したいライブラリがあれば適宜インストールしてください\n",
    "名前、住所等はダミーデータであり、実在するものではありません\n",
    "なお、設問は https://github.com/The-Japan-DataScientist-Society/100knocks-preprocess/blob/master/docker/work/preprocess_knock_R.ipynb よりコピペした。"
   ]
  },
  {
   "cell_type": "markdown",
   "metadata": {},
   "source": [
    "### はじめに"
   ]
  },
  {
   "cell_type": "code",
   "execution_count": null,
   "metadata": {},
   "outputs": [],
   "source": [
    "require('RPostgreSQL')\n",
    "require('tidyr')\n",
    "require('dplyr')\n",
    "require('stringr')\n",
    "require('caret')\n",
    "require('lubridate')\n",
    "require('rsample')\n",
    "require('unbalanced')\n",
    "\n",
    "host <- 'db'\n",
    "port <- Sys.getenv()[\"PG_PORT\"]\n",
    "dbname <- Sys.getenv()[\"PG_DATABASE\"]\n",
    "user <- Sys.getenv()[\"PG_USER\"]\n",
    "password <- Sys.getenv()[\"PG_PASSWORD\"]\n",
    "\n",
    "con <- dbConnect(PostgreSQL(), host=host, port=port, dbname=dbname, user=user, password=password)\n",
    "df_customer <- dbGetQuery(con,\"SELECT * FROM customer\")\n",
    "df_category <- dbGetQuery(con,\"SELECT * FROM category\")\n",
    "df_product <- dbGetQuery(con,\"SELECT * FROM product\")\n",
    "df_receipt <- dbGetQuery(con,\"SELECT * FROM receipt\")\n",
    "df_store <- dbGetQuery(con,\"SELECT * FROM store\")\n",
    "df_geocode <- dbGetQuery(con,\"SELECT * FROM geocode\")"
   ]
  },
  {
   "cell_type": "code",
   "execution_count": 1,
   "metadata": {
    "Rmd_chunk_options": "setup",
    "kernel": "R",
    "tags": [
     "report_cell"
    ]
   },
   "outputs": [],
   "source": [
    "# library(tidyverse)\n",
    "require(magrittr)\n",
    "require(naniar)\n",
    "require(gmt)"
   ]
  },
  {
   "cell_type": "markdown",
   "metadata": {},
   "source": [
    "なお、データは https://github.com/The-Japan-DataScientist-Society/100knocks-preprocess/tree/master/docker/work/data からダウンロードして、DockerやSQLは使用していない。\n",
    "また、ファイルを読み込む際の各列の型を指定していないので、一部（application_dateなど）問題の指定と異なる型になっていることに留意されたい。\n",
    "問題の設問主旨や分類は https://github.com/The-Japan-DataScientist-Society/100knocks-preprocess/blob/master/docker/doc/100knocks_questions.pdf も参照のこと。"
   ]
  },
  {
   "cell_type": "markdown",
   "metadata": {},
   "source": [
    "### 演習問題\n",
    "R-001: レシート明細データフレーム（df_receipt）から全項目の先頭10件を表示し、どのようなデータを保有しているか目視で確認せよ。"
   ]
  },
  {
   "cell_type": "code",
   "execution_count": 2,
   "metadata": {
    "Rmd_chunk_options": "Q1",
    "kernel": "R",
    "tags": [
     "report_cell"
    ]
   },
   "outputs": [],
   "source": [
    "df_receipt %>%\n",
    "  head(n = 10)"
   ]
  },
  {
   "cell_type": "markdown",
   "metadata": {},
   "source": [
    "R-002: レシート明細データフレーム（df_receipt）から売上日（sales_ymd）、顧客ID（customer_id）、商品コード（product_cd）、売上金額（amount）の順に列を指定し、10件表示させよ。"
   ]
  },
  {
   "cell_type": "code",
   "execution_count": 3,
   "metadata": {
    "Rmd_chunk_options": "Q2",
    "kernel": "R",
    "tags": [
     "report_cell"
    ]
   },
   "outputs": [],
   "source": [
    "df_receipt %>%\n",
    "  select(sales_ymd, customer_id, product_cd, amount) %>%\n",
    "  head(n = 10)"
   ]
  },
  {
   "cell_type": "markdown",
   "metadata": {},
   "source": [
    "R-003: レシート明細データフレーム（df_receipt）から売上日（sales_ymd）、顧客ID（customer_id）、商品コード（product_cd）、売上金額（amount）の順に列を指定し、10件表示させよ。ただし、sales_ymdはsales_dateに項目名を変更しながら抽出すること。"
   ]
  },
  {
   "cell_type": "code",
   "execution_count": 4,
   "metadata": {
    "Rmd_chunk_options": "Q3",
    "kernel": "R",
    "tags": [
     "report_cell"
    ]
   },
   "outputs": [],
   "source": [
    "df_receipt %>%\n",
    "  select(sales_ymd, customer_id, product_cd, amount) %>%\n",
    "  rename(sales_date = sales_ymd) %>%\n",
    "  head(n = 10)"
   ]
  },
  {
   "cell_type": "markdown",
   "metadata": {},
   "source": [
    "R-004: レシート明細データフレーム（df_receipt）から売上日（sales_ymd）、顧客ID（customer_id）、商品コード（product_cd）、売上金額（amount）の順に列を指定し、以下の条件を満たすデータを抽出せよ。\n",
    "\n",
    "顧客ID（customer_id）が\"CS018205000001\""
   ]
  },
  {
   "cell_type": "code",
   "execution_count": 5,
   "metadata": {
    "Rmd_chunk_options": "Q4",
    "kernel": "R",
    "tags": [
     "report_cell"
    ]
   },
   "outputs": [],
   "source": [
    "df_receipt %>%\n",
    "  select(sales_ymd, customer_id, product_cd, amount) %>%\n",
    "  filter(customer_id == \"CS018205000001\")"
   ]
  },
  {
   "cell_type": "markdown",
   "metadata": {},
   "source": [
    "R-005: レシート明細データフレーム（df_receipt）から売上日（sales_ymd）、顧客ID（customer_id）、商品コード（product_cd）、売上金額（amount）の順に列を指定し、以下の条件を満たすデータを抽出せよ。\n",
    "\n",
    "顧客ID（customer_id）が\"CS018205000001\"\n",
    "売上金額（amount）が1,000以上"
   ]
  },
  {
   "cell_type": "code",
   "execution_count": 6,
   "metadata": {
    "Rmd_chunk_options": "Q5",
    "kernel": "R",
    "tags": [
     "report_cell"
    ]
   },
   "outputs": [],
   "source": [
    "df_receipt %>%\n",
    "  select(sales_ymd, customer_id, product_cd, amount) %>%\n",
    "  filter(customer_id == \"CS018205000001\", amount >= 1000)"
   ]
  },
  {
   "cell_type": "markdown",
   "metadata": {},
   "source": [
    "R-006: レシート明細データフレーム（receipt）から売上日（sales_ymd）、顧客ID（customer_id）、商品コード（product_cd）、売上数量（quantity）、売上金額（amount）の順に列を指定し、以下の条件を満たすデータを抽出せよ。\n",
    "\n",
    "顧客ID（customer_id）が\"CS018205000001\"\n",
    "売上金額（amount）が1,000以上または売上数量（quantity）が5以上"
   ]
  },
  {
   "cell_type": "code",
   "execution_count": 7,
   "metadata": {
    "Rmd_chunk_options": "Q6",
    "kernel": "R",
    "tags": [
     "report_cell"
    ]
   },
   "outputs": [],
   "source": [
    "df_receipt %>%\n",
    "  select(sales_ymd, customer_id, product_cd, quantity, amount) %>%\n",
    "  filter(customer_id == \"CS018205000001\") %>%\n",
    "  filter(amount >= 1000 | quantity >= 5)"
   ]
  },
  {
   "cell_type": "markdown",
   "metadata": {},
   "source": [
    "R-007: レシート明細のデータフレーム（df_receipt）から売上日（sales_ymd）、顧客ID（customer_id）、商品コード（product_cd）、売上金額（amount）の順に列を指定し、以下の条件を満たすデータを抽出せよ。\n",
    "\n",
    "顧客ID（customer_id）が\"CS018205000001\"\n",
    "売上金額（amount）が1,000以上2,000以下"
   ]
  },
  {
   "cell_type": "code",
   "execution_count": 8,
   "metadata": {
    "Rmd_chunk_options": "Q7",
    "kernel": "R",
    "tags": [
     "report_cell"
    ]
   },
   "outputs": [],
   "source": [
    "df_receipt %>%\n",
    "  select(sales_ymd, customer_id, product_cd, amount) %>%\n",
    "  filter(customer_id == \"CS018205000001\") %>%\n",
    "  filter(amount >= 1000 & amount <= 2000)"
   ]
  },
  {
   "cell_type": "markdown",
   "metadata": {},
   "source": [
    "R-008: レシート明細データフレーム（df_receipt）から売上日（sales_ymd）、顧客ID（customer_id）、商品コード（product_cd）、売上金額（amount）の順に列を指定し、以下の条件を満たすデータを抽出せよ。\n",
    "\n",
    "顧客ID（customer_id）が\"CS018205000001\"\n",
    "商品コード（product_cd）が\"P071401019\"以外"
   ]
  },
  {
   "cell_type": "code",
   "execution_count": 9,
   "metadata": {
    "Rmd_chunk_options": "Q8",
    "kernel": "R",
    "tags": [
     "report_cell"
    ]
   },
   "outputs": [],
   "source": [
    "df_receipt %>%\n",
    "  select(sales_ymd, customer_id, product_cd, amount) %>%\n",
    "  filter(customer_id == \"CS018205000001\") %>%\n",
    "  filter(product_cd != \"P071401019\")"
   ]
  },
  {
   "cell_type": "markdown",
   "metadata": {},
   "source": [
    "R-009: 以下の処理において、出力結果を変えずにORをANDに書き換えよ。\n",
    "df_store %>%\n",
    "    filter(!(prefecture_cd == \"13\" | floor_area > 900))"
   ]
  },
  {
   "cell_type": "code",
   "execution_count": 10,
   "metadata": {
    "Rmd_chunk_options": "09",
    "kernel": "R",
    "tags": [
     "report_cell"
    ]
   },
   "outputs": [],
   "source": [
    "df_store %>%\n",
    "    filter(!(prefecture_cd == \"13\" | floor_area > 900))\n",
    "df_store %>%\n",
    "    filter(prefecture_cd != \"13\" & floor_area <= 900)\n",
    "identical(df_store %>%\n",
    "    filter(!(prefecture_cd == \"13\" | floor_area > 900)),\n",
    "    df_store %>%\n",
    "    filter(prefecture_cd != \"13\" & floor_area <= 900))"
   ]
  },
  {
   "cell_type": "markdown",
   "metadata": {},
   "source": [
    "R-010: 店舗データフレーム（df_store）から、店舗コード（store_cd）が\"S14\"で始まるものだけ全項目抽出し、10件だけ表示せよ。"
   ]
  },
  {
   "cell_type": "code",
   "execution_count": 11,
   "metadata": {
    "Rmd_chunk_options": "10",
    "kernel": "R",
    "tags": [
     "report_cell"
    ]
   },
   "outputs": [],
   "source": [
    "df_store %>%\n",
    "  filter(str_detect(store_cd, \"^S14\")) %>%\n",
    "  head(n = 10)"
   ]
  },
  {
   "cell_type": "markdown",
   "metadata": {},
   "source": [
    "参考ページ１: https://sebastiansauer.github.io/dplyr_filter/\n",
    "参考ページ２: https://stringr.tidyverse.org/articles/regular-expressions.html\n",
    "\n",
    "R-011: 顧客データフレーム（df_customer）から顧客ID（customer_id）の末尾が1のものだけ全項目抽出し、10件だけ表示せよ。"
   ]
  },
  {
   "cell_type": "code",
   "execution_count": 12,
   "metadata": {
    "Rmd_chunk_options": "11",
    "kernel": "R",
    "tags": [
     "report_cell"
    ]
   },
   "outputs": [],
   "source": [
    "df_customer %>%\n",
    "  filter(str_detect(customer_id, \"1$\")) %>%\n",
    "  head(n = 10)"
   ]
  },
  {
   "cell_type": "markdown",
   "metadata": {},
   "source": [
    "R-012: 店舗データフレーム（df_store）から横浜市の店舗だけ全項目表示せよ。"
   ]
  },
  {
   "cell_type": "code",
   "execution_count": 13,
   "metadata": {
    "Rmd_chunk_options": "12",
    "kernel": "R",
    "tags": [
     "report_cell"
    ]
   },
   "outputs": [],
   "source": [
    "df_store %>%\n",
    "  filter(str_detect(address, \"横浜市\"))"
   ]
  },
  {
   "cell_type": "markdown",
   "metadata": {},
   "source": [
    "R-013: 顧客データフレーム（df_customer）から、ステータスコード（status_cd）の先頭がアルファベットのA〜Fで始まるデータを全項目抽出し、10件だけ表示せよ。"
   ]
  },
  {
   "cell_type": "code",
   "execution_count": 14,
   "metadata": {
    "Rmd_chunk_options": "13",
    "kernel": "R",
    "tags": [
     "report_cell"
    ]
   },
   "outputs": [],
   "source": [
    "df_customer %>%\n",
    "  filter(str_detect(status_cd, \"^[ABCDEF]\")) %>%\n",
    "  head(n = 10)"
   ]
  },
  {
   "cell_type": "markdown",
   "metadata": {},
   "source": [
    "R-014: 顧客データフレーム（df_customer）から、ステータスコード（status_cd）の末尾が数字の1〜9で終わるデータを全項目抽出し、10件だけ表示せよ。"
   ]
  },
  {
   "cell_type": "code",
   "execution_count": 15,
   "metadata": {
    "Rmd_chunk_options": "14",
    "kernel": "R",
    "tags": [
     "report_cell"
    ]
   },
   "outputs": [],
   "source": [
    "df_customer %>%\n",
    "  filter(str_detect(status_cd, \"[1-9]$\")) %>%\n",
    "  head(n = 10)"
   ]
  },
  {
   "cell_type": "markdown",
   "metadata": {},
   "source": [
    "参考ページ: https://www-creators.com/archives/4241#NM\n",
    "\n",
    "\n",
    "R-015: 顧客データフレーム（df_customer）から、ステータスコード（status_cd）の先頭がアルファベットのA〜Fで始まり、末尾が数字の1〜9で終わるデータを全項目抽出し、10件だけ表示せよ。"
   ]
  },
  {
   "cell_type": "code",
   "execution_count": 16,
   "metadata": {
    "Rmd_chunk_options": "15",
    "kernel": "R",
    "tags": [
     "report_cell"
    ]
   },
   "outputs": [],
   "source": [
    "df_customer %>%\n",
    "  filter(str_detect(status_cd, \"^[A-F]\")) %>%\n",
    "  filter(str_detect(status_cd, \"[1-9]$\")) %>%\n",
    "  head(n = 10)"
   ]
  },
  {
   "cell_type": "markdown",
   "metadata": {},
   "source": [
    "R-016: 店舗データフレーム（df_store）から、電話番号（tel_no）が3桁-3桁-4桁のデータを全項目表示せよ。"
   ]
  },
  {
   "cell_type": "code",
   "execution_count": 17,
   "metadata": {
    "Rmd_chunk_options": "16",
    "kernel": "R",
    "tags": [
     "report_cell"
    ]
   },
   "outputs": [],
   "source": [
    "df_store %>%\n",
    "  filter(str_detect(tel_no, \"[0-9]{3}-?[0-9]{3}-?[0-9]{4}\"))"
   ]
  },
  {
   "cell_type": "markdown",
   "metadata": {},
   "source": [
    "R-017: 顧客データフレーム（df_customer）を生年月日（birth_day）で高齢順にソートし、先頭10件を全項目表示せよ。"
   ]
  },
  {
   "cell_type": "code",
   "execution_count": 18,
   "metadata": {
    "Rmd_chunk_options": "17",
    "kernel": "R",
    "tags": [
     "report_cell"
    ]
   },
   "outputs": [],
   "source": [
    "df_customer %>%\n",
    "  arrange(birth_day) %>%\n",
    "  head(n = 10)"
   ]
  },
  {
   "cell_type": "markdown",
   "metadata": {},
   "source": [
    "R-018: 顧客データフレーム（df_customer）を生年月日（birth_day）で若い順にソートし、先頭10件を全項目表示せよ。"
   ]
  },
  {
   "cell_type": "code",
   "execution_count": 19,
   "metadata": {
    "Rmd_chunk_options": "18",
    "kernel": "R",
    "tags": [
     "report_cell"
    ]
   },
   "outputs": [],
   "source": [
    "df_customer %>%\n",
    "  arrange(birth_day %>% desc) %>%\n",
    "  head(n = 10)"
   ]
  },
  {
   "cell_type": "markdown",
   "metadata": {},
   "source": [
    "参考ページ: https://dplyr.tidyverse.org/reference/desc.html\n",
    "\n",
    "R-019: レシート明細データフレーム（df_receipt）に対し、1件あたりの売上金額（amount）が高い順にランクを付与し、先頭10件を抽出せよ。項目は顧客ID（customer_id）、売上金額（amount）、付与したランクを表示させること。なお、売上金額（amount）が等しい場合は同一順位を付与するものとする。"
   ]
  },
  {
   "cell_type": "code",
   "execution_count": 20,
   "metadata": {
    "Rmd_chunk_options": "19",
    "kernel": "R",
    "tags": [
     "report_cell"
    ]
   },
   "outputs": [],
   "source": [
    "df_receipt %>%\n",
    "  mutate(rank = dplyr::min_rank(-amount)) %>%\n",
    "  arrange(rank) %>%\n",
    "  select(customer_id, amount, rank) %>%\n",
    "  head(n = 10)"
   ]
  },
  {
   "cell_type": "markdown",
   "metadata": {},
   "source": [
    "参考ページ: https://dplyr.tidyverse.org/reference/ranking.html\n",
    "\n",
    "R-020: レシート明細データフレーム（df_receipt）に対し、1件あたりの売上金額（amount）が高い順にランクを付与し、先頭10件を抽出せよ。項目は顧客ID（customer_id）、売上金額（amount）、付与したランクを表示させること。なお、売上金額（amount）が等しい場合でも別順位を付与すること。"
   ]
  },
  {
   "cell_type": "code",
   "execution_count": 21,
   "metadata": {
    "Rmd_chunk_options": "20",
    "kernel": "R",
    "tags": [
     "report_cell"
    ]
   },
   "outputs": [],
   "source": [
    "df_receipt %>%\n",
    "  mutate(rank = dplyr::row_number(-amount)) %>%\n",
    "  arrange(rank) %>%\n",
    "  select(customer_id, amount, rank) %>%\n",
    "  head(n = 10)"
   ]
  },
  {
   "cell_type": "markdown",
   "metadata": {},
   "source": [
    "R-021: レシート明細データフレーム（df_receipt）に対し、件数をカウントせよ。"
   ]
  },
  {
   "cell_type": "code",
   "execution_count": 22,
   "metadata": {
    "Rmd_chunk_options": "21",
    "kernel": "R",
    "tags": [
     "report_cell"
    ]
   },
   "outputs": [],
   "source": [
    "df_receipt %>% NROW()"
   ]
  },
  {
   "cell_type": "markdown",
   "metadata": {},
   "source": [
    "R-022: レシート明細データフレーム（df_receipt）の顧客ID（customer_id）に対し、ユニーク件数をカウントせよ。"
   ]
  },
  {
   "cell_type": "code",
   "execution_count": 23,
   "metadata": {
    "Rmd_chunk_options": "22",
    "kernel": "R",
    "tags": [
     "report_cell"
    ]
   },
   "outputs": [],
   "source": [
    "df_receipt %>%\n",
    "  pull(customer_id) %>%\n",
    "  unique() %>%\n",
    "  NROW()"
   ]
  },
  {
   "cell_type": "markdown",
   "metadata": {},
   "source": [
    "R-023: レシート明細データフレーム（df_receipt）に対し、店舗コード（store_cd）ごとに売上金額（amount）と売上数量（quantity）を合計せよ。"
   ]
  },
  {
   "cell_type": "code",
   "execution_count": 24,
   "metadata": {
    "Rmd_chunk_options": "23",
    "kernel": "R",
    "tags": [
     "report_cell"
    ]
   },
   "outputs": [],
   "source": [
    "df_receipt %>%\n",
    "  group_by(store_cd) %>%\n",
    "  summarise(total_amount = sum(amount),\n",
    "            total_quantity = sum(quantity))"
   ]
  },
  {
   "cell_type": "markdown",
   "metadata": {},
   "source": [
    "R-024: レシート明細データフレーム（df_receipt）に対し、顧客ID（customer_id）ごとに最も新しい売上日（sales_ymd）を求め、10件表示せよ。"
   ]
  },
  {
   "cell_type": "code",
   "execution_count": 25,
   "metadata": {
    "Rmd_chunk_options": "24",
    "kernel": "R",
    "tags": [
     "report_cell"
    ]
   },
   "outputs": [],
   "source": [
    "df_receipt %>%\n",
    "  group_by(customer_id) %>%\n",
    "  summarise(latest_sales_ymd = max(sales_ymd)) %>%\n",
    "  head(n = 10)"
   ]
  },
  {
   "cell_type": "markdown",
   "metadata": {},
   "source": [
    "R-025: レシート明細データフレーム（df_receipt）に対し、顧客ID（customer_id）ごとに最も古い売上日（sales_ymd）を求め、10件表示せよ。"
   ]
  },
  {
   "cell_type": "code",
   "execution_count": 26,
   "metadata": {
    "Rmd_chunk_options": "25",
    "kernel": "R",
    "tags": [
     "report_cell"
    ]
   },
   "outputs": [],
   "source": [
    "df_receipt %>%\n",
    "  group_by(customer_id) %>%\n",
    "  summarise(oldest_sales_ymd = min(sales_ymd)) %>%\n",
    "  head(n = 10)"
   ]
  },
  {
   "cell_type": "markdown",
   "metadata": {},
   "source": [
    "R-026: レシート明細データフレーム（df_receipt）に対し、顧客ID（customer_id）ごとに最も新しい売上日（sales_ymd）と古い売上日を求め、両者が異なるデータを10件表示せよ。"
   ]
  },
  {
   "cell_type": "code",
   "execution_count": 27,
   "metadata": {
    "Rmd_chunk_options": "26",
    "kernel": "R",
    "tags": [
     "report_cell"
    ]
   },
   "outputs": [],
   "source": [
    "df_receipt %>%\n",
    "  group_by(customer_id) %>%\n",
    "  summarise(latest_sales_ymd = max(sales_ymd),\n",
    "            oldest_sales_ymd = min(sales_ymd)) %>%\n",
    "  filter(latest_sales_ymd != oldest_sales_ymd) %>%\n",
    "  head(n = 10)"
   ]
  },
  {
   "cell_type": "markdown",
   "metadata": {},
   "source": [
    "R-027: レシート明細データフレーム（df_receipt）に対し、店舗コード（store_cd）ごとに売上金額（amount）の平均を計算し、降順でTOP5を表示せよ。"
   ]
  },
  {
   "cell_type": "code",
   "execution_count": 28,
   "metadata": {
    "Rmd_chunk_options": "27",
    "kernel": "R",
    "tags": [
     "report_cell"
    ]
   },
   "outputs": [],
   "source": [
    "df_receipt %>%\n",
    "  group_by(store_cd) %>%\n",
    "  summarise(avg_amount = mean(amount)) %>%\n",
    "  arrange(-avg_amount) %>%\n",
    "  head(n = 5)"
   ]
  },
  {
   "cell_type": "markdown",
   "metadata": {},
   "source": [
    "R-028: レシート明細データフレーム（df_receipt）に対し、店舗コード（store_cd）ごとに売上金額（amount）の中央値を計算し、降順でTOP5を表示せよ。"
   ]
  },
  {
   "cell_type": "code",
   "execution_count": 29,
   "metadata": {
    "Rmd_chunk_options": "28",
    "kernel": "R",
    "tags": [
     "report_cell"
    ]
   },
   "outputs": [],
   "source": [
    "df_receipt %>%\n",
    "  group_by(store_cd) %>%\n",
    "  summarise(median_amount = median(amount)) %>%\n",
    "  arrange(-median_amount) %>%\n",
    "  head(n = 5)"
   ]
  },
  {
   "cell_type": "markdown",
   "metadata": {},
   "source": [
    "R-029: レシート明細データフレーム（df_receipt）に対し、店舗コード（store_cd）ごとに商品コード（product_cd）の最頻値を求めよ。"
   ]
  },
  {
   "cell_type": "code",
   "execution_count": 30,
   "metadata": {
    "Rmd_chunk_options": "29",
    "kernel": "R",
    "tags": [
     "report_cell"
    ]
   },
   "outputs": [],
   "source": [
    "calculate_mode <- function(x) {\n",
    "  uniqx <- unique(na.omit(x))\n",
    "  uniqx[which.max(tabulate(match(x, uniqx)))]\n",
    "}\n",
    "\n",
    "df_receipt %>%\n",
    "  group_by(store_cd) %>%\n",
    "  summarise(mode_amount = calculate_mode(amount)) %>%\n",
    "  arrange(-mode_amount) %>%\n",
    "  head(n = 5)"
   ]
  },
  {
   "cell_type": "markdown",
   "metadata": {},
   "source": [
    "参考ページ: https://exploratory.io/note/kanaugust/1701090969905358\n",
    "\n",
    "R-030: レシート明細データフレーム（df_receipt）に対し、店舗コード（store_cd）ごとに売上金額（amount）の標本分散を計算し、降順でTOP5を表示せよ。"
   ]
  },
  {
   "cell_type": "code",
   "execution_count": 31,
   "metadata": {
    "Rmd_chunk_options": "30",
    "kernel": "R",
    "tags": [
     "report_cell"
    ]
   },
   "outputs": [],
   "source": [
    "df_receipt %>%\n",
    "  group_by(store_cd) %>%\n",
    "  summarise(var_amount = var(amount)) %>%\n",
    "  arrange(-var_amount) %>%\n",
    "  head(n = 5)"
   ]
  },
  {
   "cell_type": "markdown",
   "metadata": {},
   "source": [
    "R-031: レシート明細データフレーム（df_receipt）に対し、店舗コード（store_cd）ごとに売上金額（amount）の標本標準偏差を計算し、降順でTOP5を表示せよ。"
   ]
  },
  {
   "cell_type": "code",
   "execution_count": 32,
   "metadata": {
    "Rmd_chunk_options": "31",
    "kernel": "R",
    "tags": [
     "report_cell"
    ]
   },
   "outputs": [],
   "source": [
    "df_receipt %>%\n",
    "  group_by(store_cd) %>%\n",
    "  summarise(sd_amount = sd(amount)) %>%\n",
    "  arrange(-sd_amount) %>%\n",
    "  head(n = 5)"
   ]
  },
  {
   "cell_type": "markdown",
   "metadata": {},
   "source": [
    "R-032: レシート明細データフレーム（df_receipt）の売上金額（amount）について、25％刻みでパーセンタイル値を求めよ。"
   ]
  },
  {
   "cell_type": "code",
   "execution_count": 33,
   "metadata": {
    "Rmd_chunk_options": "32",
    "kernel": "R",
    "tags": [
     "report_cell"
    ]
   },
   "outputs": [],
   "source": [
    "df_receipt %>%\n",
    "  pull(amount) %>%\n",
    "  quantile()"
   ]
  },
  {
   "cell_type": "markdown",
   "metadata": {},
   "source": [
    "R-033: レシート明細データフレーム（df_receipt）に対し、店舗コード（store_cd）ごとに売上金額（amount）の平均を計算し、330以上のものを抽出せよ。"
   ]
  },
  {
   "cell_type": "code",
   "execution_count": 34,
   "metadata": {
    "Rmd_chunk_options": "33",
    "kernel": "R",
    "tags": [
     "report_cell"
    ]
   },
   "outputs": [],
   "source": [
    "df_receipt %>%\n",
    "  group_by(store_cd) %>%\n",
    "  summarise(avg = mean(amount)) %>%\n",
    "  filter(avg >= 330)"
   ]
  },
  {
   "cell_type": "markdown",
   "metadata": {},
   "source": [
    "R-034: レシート明細データフレーム（df_receipt）に対し、顧客ID（customer_id）ごとに売上金額（amount）を合計して全顧客の平均を求めよ。ただし、顧客IDが\"Z\"から始まるのものは非会員を表すため、除外して計算すること。"
   ]
  },
  {
   "cell_type": "code",
   "execution_count": 35,
   "metadata": {
    "Rmd_chunk_options": "34",
    "kernel": "R",
    "tags": [
     "report_cell"
    ]
   },
   "outputs": [],
   "source": [
    "df_total_amount <- df_receipt %>%\n",
    "  filter(!stringr::str_detect(customer_id, \"^Z\")) %>%\n",
    "  group_by(customer_id) %>%\n",
    "  summarise(total = sum(amount))\n",
    "avg_total_amount <- df_total_amount %>% pull(total) %>%\n",
    "  mean()\n",
    "avg_total_amount\n",
    "df_total_amount %>%\n",
    "  ggplot() +\n",
    "  geom_histogram(aes(x = total), fill = \"blue\") +\n",
    "  geom_vline(xintercept = avg_total_amount, colour = \"red\",\n",
    "             linetype = \"dashed\", size = 1.5) +\n",
    "  theme_classic()"
   ]
  },
  {
   "cell_type": "markdown",
   "metadata": {},
   "source": [
    "R-035: レシート明細データフレーム（df_receipt）に対し、顧客ID（customer_id）ごとに売上金額（amount）を合計して全顧客の平均を求め、平均以上に買い物をしている顧客を抽出せよ。ただし、顧客IDが\"Z\"から始まるのものは非会員を表すため、除外して計算すること。なお、データは10件だけ表示させれば良い。"
   ]
  },
  {
   "cell_type": "code",
   "execution_count": 36,
   "metadata": {
    "Rmd_chunk_options": "35",
    "kernel": "R",
    "tags": [
     "report_cell"
    ]
   },
   "outputs": [],
   "source": [
    "df_total_amount %>%\n",
    "  filter(total >= avg_total_amount) %>%\n",
    "  head(n = 10)"
   ]
  },
  {
   "cell_type": "markdown",
   "metadata": {},
   "source": [
    "R-036: レシート明細データフレーム（df_receipt）と店舗データフレーム（df_store）を内部結合し、レシート明細データフレームの全項目と店舗データフレームの店舗名（store_name）を10件表示させよ。"
   ]
  },
  {
   "cell_type": "code",
   "execution_count": 37,
   "metadata": {
    "Rmd_chunk_options": "36",
    "kernel": "R",
    "tags": [
     "report_cell"
    ]
   },
   "outputs": [],
   "source": [
    "df_receipt %>%\n",
    "  left_join(df_store %>% select(store_cd, store_name),\n",
    "            by = \"store_cd\") %>%\n",
    "  head(n = 10)"
   ]
  },
  {
   "cell_type": "markdown",
   "metadata": {},
   "source": [
    "R-037: 商品データフレーム（df_product）とカテゴリデータフレーム（df_category）を内部結合し、商品データフレームの全項目とカテゴリデータフレームの小区分名（category_small_name）を10件表示させよ。"
   ]
  },
  {
   "cell_type": "code",
   "execution_count": 38,
   "metadata": {
    "Rmd_chunk_options": "37",
    "kernel": "R",
    "tags": [
     "report_cell"
    ]
   },
   "outputs": [],
   "source": [
    "df_product %>%\n",
    "  left_join(df_category %>% select(category_small_cd, category_small_name),\n",
    "            by = \"category_small_cd\") %>%\n",
    "  head(n = 10)"
   ]
  },
  {
   "cell_type": "markdown",
   "metadata": {},
   "source": [
    "R-038: 顧客データフレーム（df_customer）とレシート明細データフレーム（df_receipt）から、各顧客ごとの売上金額合計を求めよ。ただし、買い物の実績がない顧客については売上金額を0として表示させること。また、顧客は性別コード（gender_cd）が女性（1）であるものを対象とし、非会員（顧客IDが'Z'から始まるもの）は除外すること。なお、結果は10件だけ表示させれば良い。"
   ]
  },
  {
   "cell_type": "code",
   "execution_count": 39,
   "metadata": {
    "Rmd_chunk_options": "38",
    "kernel": "R",
    "tags": [
     "report_cell"
    ]
   },
   "outputs": [],
   "source": [
    "df_customer %>%\n",
    "  left_join(df_receipt,\n",
    "            by = \"customer_id\") %>%\n",
    "  filter(gender_cd == 1) %>%\n",
    "  filter(!stringr::str_detect(customer_id, \"^Z\")) %>%\n",
    "  group_by(customer_id) %>%\n",
    "  summarise(total = sum(amount)) %>%\n",
    "  tidyr::replace_na(list(total = 0)) %>%\n",
    "  head(n = 10)"
   ]
  },
  {
   "cell_type": "markdown",
   "metadata": {},
   "source": [
    "R-039: レシート明細データフレーム（df_receipt）から売上日数の多い顧客の上位20件と、売上金額合計の多い顧客の上位20件を抽出し、完全外部結合せよ。ただし、非会員（顧客IDが'Z'から始まるもの）は除外すること。"
   ]
  },
  {
   "cell_type": "code",
   "execution_count": 40,
   "metadata": {
    "Rmd_chunk_options": "39",
    "kernel": "R",
    "tags": [
     "report_cell"
    ]
   },
   "outputs": [],
   "source": [
    "df1 <- df_receipt %>%\n",
    "  filter(!stringr::str_detect(customer_id, \"^Z\")) %>%\n",
    "  group_by(customer_id) %>%\n",
    "  summarise(total_unique_sales_ymd = NROW(unique(sales_ymd))) %>%\n",
    "  arrange(-total_unique_sales_ymd) %>%\n",
    "  head(n = 20)\n",
    "df2 <- df_receipt %>%\n",
    "  filter(!stringr::str_detect(customer_id, \"^Z\")) %>%\n",
    "  group_by(customer_id) %>%\n",
    "  summarise(total_amount = sum(amount)) %>%\n",
    "  arrange(-total_amount) %>%\n",
    "  head(n = 20)\n",
    "df1 %>% full_join(df2,\n",
    "                  by = \"customer_id\")"
   ]
  },
  {
   "cell_type": "markdown",
   "metadata": {},
   "source": [
    "R-040: 全ての店舗と全ての商品を組み合わせると何件のデータとなるか調査したい。店舗（df_store）と商品（df_product）を直積した件数を計算せよ。"
   ]
  },
  {
   "cell_type": "code",
   "execution_count": 41,
   "metadata": {
    "Rmd_chunk_options": "40",
    "kernel": "R",
    "tags": [
     "report_cell"
    ]
   },
   "outputs": [],
   "source": [
    "NROW(df_store) * NROW(df_product)"
   ]
  },
  {
   "cell_type": "markdown",
   "metadata": {},
   "source": [
    "R-041: レシート明細データフレーム（df_receipt）の売上金額（amount）を日付（sales_ymd）ごとに集計し、前日からの売上金額増減を計算せよ。なお、計算結果は10件表示すればよい。"
   ]
  },
  {
   "cell_type": "code",
   "execution_count": 42,
   "metadata": {
    "Rmd_chunk_options": "41",
    "kernel": "R",
    "tags": [
     "report_cell"
    ]
   },
   "outputs": [],
   "source": [
    "df_receipt %>%\n",
    "  group_by(sales_ymd) %>%\n",
    "  summarise(total = sum(amount)) %>%\n",
    "  mutate(total_yesterday = lag(total, 1),\n",
    "         diff_total_amount = total - total_yesterday) %>%\n",
    "  na.omit() %>%\n",
    "  head(n = 10)"
   ]
  },
  {
   "cell_type": "markdown",
   "metadata": {},
   "source": [
    "R-042: レシート明細データフレーム（df_receipt）の売上金額（amount）を日付（sales_ymd）ごとに集計し、各日付のデータに対し、１日前、２日前、３日前のデータを結合せよ。結果は10件表示すればよい。"
   ]
  },
  {
   "cell_type": "code",
   "execution_count": 43,
   "metadata": {
    "Rmd_chunk_options": "42",
    "kernel": "R",
    "tags": [
     "report_cell"
    ]
   },
   "outputs": [],
   "source": [
    "df_receipt %>%\n",
    "  group_by(sales_ymd) %>%\n",
    "  summarise(total = sum(amount)) %>%\n",
    "  mutate(total_1d_ago = lag(total, 1),\n",
    "         total_2d_ago = lag(total, 2),\n",
    "         total_3d_ago = lag(total, 3)) %>%\n",
    "  head(n = 10)"
   ]
  },
  {
   "cell_type": "code",
   "execution_count": 44,
   "metadata": {
    "Rmd_chunk_options": "42-2",
    "kernel": "R",
    "tags": [
     "report_cell"
    ]
   },
   "outputs": [],
   "source": [
    "df_receipt %>%\n",
    "  group_by(sales_ymd) %>%\n",
    "  summarise(total = sum(amount)) %>%\n",
    "  mutate(sales_ymd_1d_ago = lag(sales_ymd, 1),\n",
    "         total_1d_ago = lag(total, 1),\n",
    "         sales_ymd_2d_ago = lag(sales_ymd, 2),\n",
    "         total_2d_ago = lag(total, 2),\n",
    "         sales_ymd_3d_ago = lag(sales_ymd, 3),\n",
    "         total_3d_ago = lag(total, 3)) %>%\n",
    "  na.omit() %>%\n",
    "  head(n = 10)"
   ]
  },
  {
   "cell_type": "markdown",
   "metadata": {},
   "source": [
    "R-043: レシート明細データフレーム（df_receipt）と顧客データフレーム（df_customer）を結合し、性別（gender）と年代（ageから計算）ごとに売上金額（amount）を合計した売上サマリデータフレーム（df_sales_summary）を作成せよ。性別は0が男性、1が女性、9が不明を表すものとする。\n",
    "\n",
    "ただし、項目構成は年代、女性の売上金額、男性の売上金額、性別不明の売上金額の4項目とすること（縦に年代、横に性別のクロス集計）。また、年代は10歳ごとの階級とすること。"
   ]
  },
  {
   "cell_type": "code",
   "execution_count": 45,
   "metadata": {
    "Rmd_chunk_options": "43",
    "kernel": "R",
    "tags": [
     "report_cell"
    ]
   },
   "outputs": [],
   "source": [
    "df_receipt %>%\n",
    "  left_join(df_customer,\n",
    "            by = \"customer_id\") %>%\n",
    "  select(gender_cd, age, amount) %>%\n",
    "  pull(gender_cd) %>% unique()\n",
    "df_receipt %>%\n",
    "  left_join(df_customer,\n",
    "            by = \"customer_id\") %>%\n",
    "  select(gender_cd, age, amount) %>%\n",
    "  pull(age) %>% na.omit() %>% range()\n",
    "df_sales_summary <- df_receipt %>%\n",
    "  left_join(df_customer,\n",
    "            by = \"customer_id\") %>%\n",
    "  select(gender_cd, age, amount) %>%\n",
    "  na.omit() %>%\n",
    "  mutate(age_group = paste0(as.character((age %/% 10)*10), \"s\")) %>%\n",
    "  group_by(age_group, gender_cd) %>%\n",
    "  summarise(total = sum(amount)) %>%\n",
    "  tidyr::pivot_wider(names_from = gender_cd, values_from = total) %>%\n",
    "  rename(男性 = \"0\", 女性 = \"1\", 不明 = \"9\")\n",
    "df_sales_summary"
   ]
  },
  {
   "cell_type": "markdown",
   "metadata": {},
   "source": [
    "コメント: 年代とジェンダーの組み合わせでデータが存在しない場合の売上金額合計を０で埋めるのはあまり好ましくないと考えられ、NAのままの方が実用的で良いと思われる。\n",
    "\n",
    "\n",
    "R-044: 前設問で作成した売上サマリデータフレーム（df_sales_summary）は性別の売上を横持ちさせたものであった。このデータフレームから性別を縦持ちさせ、年代、性別コード、売上金額の3項目に変換せよ。ただし、性別コードは男性を'00'、女性を'01'、不明を'99'とする。"
   ]
  },
  {
   "cell_type": "code",
   "execution_count": 46,
   "metadata": {
    "Rmd_chunk_options": "44",
    "kernel": "R",
    "tags": [
     "report_cell"
    ]
   },
   "outputs": [],
   "source": [
    "df_sales_summary %>%\n",
    "  pivot_longer(-age_group, names_to = \"性別コード\", values_to = \"売上金額\") %>%\n",
    "  mutate(性別コード = case_when(性別コード == \"男性\" ~ '00',\n",
    "                                性別コード == \"女性\" ~ '01',\n",
    "                                性別コード == \"不明\" ~ '99')) %>%\n",
    "  rename(年代 = age_group)"
   ]
  },
  {
   "cell_type": "markdown",
   "metadata": {},
   "source": [
    "R-045: 顧客データフレーム（df_customer）の生年月日（birth_day）は日付型（Date）でデータを保有している。これをYYYYMMDD形式の文字列に変換し、顧客ID（customer_id）とともに抽出せよ。データは10件を抽出すれば良い。"
   ]
  },
  {
   "cell_type": "code",
   "execution_count": 47,
   "metadata": {
    "Rmd_chunk_options": "45",
    "kernel": "R",
    "tags": [
     "report_cell"
    ]
   },
   "outputs": [],
   "source": [
    "df_customer %>%\n",
    "  select(customer_id, birth_day) %>%\n",
    "  mutate(birth_day = format(birth_day, \"%Y%m%d\")) %>%\n",
    "  head(n = 10)"
   ]
  },
  {
   "cell_type": "markdown",
   "metadata": {},
   "source": [
    "参考: http://delta0726.web.fc2.com/packages/data/00_lubridate.html\n",
    "\n",
    "R-046: 顧客データフレーム（df_customer）の申し込み日（application_date）はYYYYMMDD形式の文字列型でデータを保有している。これを日付型（dateやdatetime）に変換し、顧客ID（customer_id）とともに抽出せよ。データは10件を抽出すれば良い。"
   ]
  },
  {
   "cell_type": "code",
   "execution_count": 48,
   "metadata": {
    "Rmd_chunk_options": "46",
    "kernel": "R",
    "tags": [
     "report_cell"
    ]
   },
   "outputs": [],
   "source": [
    "df_customer %>%\n",
    "  select(customer_id, application_date) %>%\n",
    "  mutate(application_date = as.character(application_date) %>%\n",
    "           ymd()) %>%\n",
    "  head(n = 10)"
   ]
  },
  {
   "cell_type": "markdown",
   "metadata": {},
   "source": [
    "R-047: レシート明細データフレーム（df_receipt）の売上日（sales_ymd）はYYYYMMDD形式の数値型でデータを保有している。これを日付型（dateやdatetime）に変換し、レシート番号(receipt_no)、レシートサブ番号（receipt_sub_no）とともに抽出せよ。データは10件を抽出すれば良い。"
   ]
  },
  {
   "cell_type": "code",
   "execution_count": 49,
   "metadata": {
    "Rmd_chunk_options": "47",
    "kernel": "R",
    "tags": [
     "report_cell"
    ]
   },
   "outputs": [],
   "source": [
    "df_receipt %>%\n",
    "  select(receipt_no, receipt_sub_no, sales_ymd) %>%\n",
    "  mutate(sales_ymd = as.character(sales_ymd) %>%\n",
    "           ymd()) %>%\n",
    "  head(n = 10)"
   ]
  },
  {
   "cell_type": "markdown",
   "metadata": {},
   "source": [
    "R-048: レシート明細データフレーム（df_receipt）の売上エポック秒（sales_epoch）は数値型のUNIX秒でデータを保有している。これを日付型（POSIXct）に変換し、レシート番号(receipt_no)、レシートサブ番号（receipt_sub_no）とともに抽出せよ。データは10件を抽出すれば良い。"
   ]
  },
  {
   "cell_type": "code",
   "execution_count": 50,
   "metadata": {
    "Rmd_chunk_options": "48",
    "kernel": "R",
    "tags": [
     "report_cell"
    ]
   },
   "outputs": [],
   "source": [
    "df_receipt %>%\n",
    "  select(receipt_no, receipt_sub_no, sales_epoch) %>%\n",
    "  mutate(sales_epoch = lubridate::as_datetime(sales_epoch)) %>%\n",
    "  head(n = 10)"
   ]
  },
  {
   "cell_type": "markdown",
   "metadata": {},
   "source": [
    "R-049: レシート明細データフレーム（df_receipt）の売上エポック秒（sales_epoch）を日付型（POSIXct）に変換し、\"年\"だけ取り出してレシート番号(receipt_no)、レシートサブ番号（receipt_sub_no）とともに抽出せよ。データは10件を抽出すれば良い。"
   ]
  },
  {
   "cell_type": "code",
   "execution_count": 51,
   "metadata": {
    "Rmd_chunk_options": "49",
    "kernel": "R",
    "tags": [
     "report_cell"
    ]
   },
   "outputs": [],
   "source": [
    "df_receipt %>%\n",
    "  select(receipt_no, receipt_sub_no, sales_epoch) %>%\n",
    "  mutate(sales_epoch = lubridate::as_datetime(sales_epoch)) %>%\n",
    "  mutate(year = year(sales_epoch)) %>%\n",
    "  head(n = 10)"
   ]
  },
  {
   "cell_type": "markdown",
   "metadata": {},
   "source": [
    "R-050: レシート明細データフレーム（df_receipt）の売上エポック秒（sales_epoch）を日付型（POSIXct）に変換し、\"月\"だけ取り出してレシート番号(receipt_no)、レシートサブ番号（receipt_sub_no）とともに抽出せよ。なお、\"月\"は0埋め2桁で取り出すこと。データは10件を抽出すれば良い。"
   ]
  },
  {
   "cell_type": "code",
   "execution_count": 52,
   "metadata": {
    "Rmd_chunk_options": "50",
    "kernel": "R",
    "tags": [
     "report_cell"
    ]
   },
   "outputs": [],
   "source": [
    "df_receipt %>%\n",
    "  select(receipt_no, receipt_sub_no, sales_epoch) %>%\n",
    "  mutate(sales_epoch = lubridate::as_datetime(sales_epoch)) %>%\n",
    "  mutate(month = month(sales_epoch)) %>%\n",
    "  head(n = 10)"
   ]
  },
  {
   "cell_type": "markdown",
   "metadata": {},
   "source": [
    "R-051: レシート明細データフレーム（df_receipt）の売上エポック秒（sales_epoch）を日付型（POSIXct）に変換し、\"日\"だけ取り出してレシート番号(receipt_no)、レシートサブ番号（receipt_sub_no）とともに抽出せよ。なお、\"日\"は0埋め2桁で取り出すこと。データは10件を抽出すれば良い。"
   ]
  },
  {
   "cell_type": "code",
   "execution_count": 53,
   "metadata": {
    "Rmd_chunk_options": "51",
    "kernel": "R",
    "tags": [
     "report_cell"
    ]
   },
   "outputs": [],
   "source": [
    "df_receipt %>%\n",
    "  select(receipt_no, receipt_sub_no, sales_epoch) %>%\n",
    "  mutate(sales_epoch = lubridate::as_datetime(sales_epoch)) %>%\n",
    "  mutate(day = day(sales_epoch),\n",
    "         day = str_pad(day, 2, pad = \"0\")) %>%\n",
    "  head(n = 10)"
   ]
  },
  {
   "cell_type": "markdown",
   "metadata": {},
   "source": [
    "R-052: レシート明細データフレーム（df_receipt）の売上金額（amount）を顧客ID（customer_id）ごとに合計の上、売上金額合計に対して2000円以下を0、2000円超を1に2値化し、顧客ID、合計金額とともに10件表示せよ。ただし、顧客IDが\"Z\"から始まるのものは非会員を表すため、除外して計算すること。"
   ]
  },
  {
   "cell_type": "code",
   "execution_count": 54,
   "metadata": {
    "Rmd_chunk_options": "52",
    "kernel": "R",
    "tags": [
     "report_cell"
    ]
   },
   "outputs": [],
   "source": [
    "df_receipt %>%\n",
    "  filter(!stringr::str_detect(customer_id, \"^Z\")) %>%\n",
    "  group_by(customer_id) %>%\n",
    "  summarise(total = sum(amount)) %>%\n",
    "  mutate(total = if_else(total <= 2000, 0 , 1)) %>%\n",
    "  head(n = 10)"
   ]
  },
  {
   "cell_type": "markdown",
   "metadata": {},
   "source": [
    "R-053: 顧客データフレーム（df_customer）の郵便番号（postal_cd）に対し、東京（先頭3桁が100〜209のもの）を1、それ以外のものを０に２値化せよ。さらにレシート明細データフレーム（df_receipt）と結合し、全期間において買い物実績のある顧客数を、作成した2値ごとにカウントせよ。"
   ]
  },
  {
   "cell_type": "code",
   "execution_count": 55,
   "metadata": {
    "Rmd_chunk_options": "53",
    "kernel": "R",
    "tags": [
     "report_cell"
    ]
   },
   "outputs": [],
   "source": [
    "df_customer_tokyo_or_not <- df_customer %>%\n",
    "  mutate(postal_cd_3digits = str_sub(postal_cd, start = 1, end = 3)) %>%\n",
    "  mutate(postal_cd_3digits = as.numeric(postal_cd_3digits),\n",
    "         postal_cd = ifelse(postal_cd_3digits >= 100 & postal_cd_3digits <= 209, 1, 0))\n",
    "df_receipt %>%\n",
    "  inner_join(df_customer_tokyo_or_not,\n",
    "            by = \"customer_id\") %>%\n",
    "  group_by(postal_cd) %>%\n",
    "  summarise(num_unique_customer_id = NROW(unique(customer_id)))"
   ]
  },
  {
   "cell_type": "markdown",
   "metadata": {},
   "source": [
    "R-054: 顧客データデータフレーム（df_customer）の住所（address）は、埼玉県、千葉県、東京都、神奈川県のいずれかとなっている。都道府県毎にコード値を作成し、顧客ID、住所とともに抽出せよ。値は埼玉県を11、千葉県を12、東京都を13、神奈川県を14とすること。結果は10件表示させれば良い。"
   ]
  },
  {
   "cell_type": "code",
   "execution_count": 56,
   "metadata": {
    "Rmd_chunk_options": "54",
    "kernel": "R",
    "tags": [
     "report_cell"
    ]
   },
   "outputs": [],
   "source": [
    "df_customer %>%\n",
    "  mutate(address_cd = case_when(str_detect(address, \"埼玉県\") ~ 11,\n",
    "                                str_detect(address, \"千葉県\") ~ 12,\n",
    "                                str_detect(address, \"東京都\") ~ 13,\n",
    "                                str_detect(address, \"神奈川県\") ~ 14)) %>%\n",
    "  select(customer_id, address, address_cd) %>% head(n = 10)"
   ]
  },
  {
   "cell_type": "markdown",
   "metadata": {},
   "source": [
    "R-055: レシート明細データフレーム（df_receipt）の売上金額（amount）を顧客ID（customer_id）ごとに合計し、その合計金額の四分位点を求めよ。その上で、顧客ごとの売上金額合計に対して以下の基準でカテゴリ値を作成し、顧客ID、売上金額と合計ともに表示せよ。カテゴリ値は上から順に1〜4とする。結果は10件表示させれば良い。\n",
    "\n",
    "最小値以上第一四分位未満\n",
    "第一四分位以上第二四分位未満\n",
    "第二四分位以上第三四分位未満\n",
    "第三四分位以上"
   ]
  },
  {
   "cell_type": "code",
   "execution_count": 57,
   "metadata": {
    "Rmd_chunk_options": "55",
    "kernel": "R",
    "tags": [
     "report_cell"
    ]
   },
   "outputs": [],
   "source": [
    "df_receipt %>%\n",
    "  group_by(customer_id) %>%\n",
    "  summarise(total = sum(amount)) %>%\n",
    "  mutate(category = case_when(total < quantile(total)[2] ~ 1,\n",
    "                                 total < quantile(total)[3] ~ 2,\n",
    "                                 total < quantile(total)[4] ~ 3,\n",
    "                                 TRUE ~ 4)) %>%\n",
    "  select(customer_id, total, category) %>%\n",
    "  head(n = 10)"
   ]
  },
  {
   "cell_type": "markdown",
   "metadata": {},
   "source": [
    "R-056: 顧客データフレーム（df_customer）の年齢（age）をもとに10歳刻みで年代を算出し、顧客ID（customer_id）、生年月日（birth_day）とともに抽出せよ。ただし、60歳以上は全て60歳代とすること。年代を表すカテゴリ名は任意とする。先頭10件を表示させればよい。"
   ]
  },
  {
   "cell_type": "code",
   "execution_count": 58,
   "metadata": {
    "Rmd_chunk_options": "56",
    "kernel": "R",
    "tags": [
     "report_cell"
    ]
   },
   "outputs": [],
   "source": [
    "df_customer %>%\n",
    "  mutate(age = if_else(age > 60, 60, age),\n",
    "         age_group = paste0(as.character((age %/% 10)*10), \"s\")) %>%\n",
    "  select(customer_id, birth_day, age_group) %>%\n",
    "  head(n = 10)"
   ]
  },
  {
   "cell_type": "markdown",
   "metadata": {},
   "source": [
    "R-057: 前問題の抽出結果と性別（gender）を組み合わせ、新たに性別×年代の組み合わせを表すカテゴリデータを作成せよ。組み合わせを表すカテゴリの値は任意とする。先頭10件を表示させればよい。"
   ]
  },
  {
   "cell_type": "code",
   "execution_count": 59,
   "metadata": {
    "Rmd_chunk_options": "57",
    "kernel": "R",
    "tags": [
     "report_cell"
    ]
   },
   "outputs": [],
   "source": [
    "df_customer %>%\n",
    "  mutate(age = if_else(age > 60, 60, age),\n",
    "         age_group = paste0(as.character((age %/% 10)*10), \"s\"),\n",
    "         gender_age_group = paste0(gender, age_group)) %>%\n",
    "  select(customer_id, birth_day, age_group, gender, gender_age_group) %>%\n",
    "  head(n = 10)"
   ]
  },
  {
   "cell_type": "markdown",
   "metadata": {},
   "source": [
    "R-058: 顧客データフレーム（df_customer）の性別コード（gender_cd）をダミー変数化し、顧客ID（customer_id）とともに抽出せよ。結果は10件表示させれば良い。"
   ]
  },
  {
   "cell_type": "code",
   "execution_count": 60,
   "metadata": {
    "Rmd_chunk_options": "58",
    "kernel": "R",
    "tags": [
     "report_cell"
    ]
   },
   "outputs": [],
   "source": [
    "df_customer %>%\n",
    "  mutate(male = if_else(gender_cd == 0, 1, 0),\n",
    "         female = if_else(gender_cd == 1, 1, 0),\n",
    "         other = if_else(gender_cd == 9, 1, 0)) %>%\n",
    "  select(customer_id, gender, male, female) %>%\n",
    "  head(n = 10)"
   ]
  },
  {
   "cell_type": "code",
   "execution_count": 61,
   "metadata": {
    "Rmd_chunk_options": "58_2",
    "kernel": "R",
    "tags": [
     "report_cell"
    ]
   },
   "outputs": [],
   "source": [
    "df_customer %>%\n",
    "  mutate(value = 1) %>%\n",
    "  pivot_wider(names_from = gender, values_from = value, values_fill = 0) %>%\n",
    "  select(customer_id, gender_cd, 男性, 女性, 不明) %>%\n",
    "  head(n = 10)"
   ]
  },
  {
   "cell_type": "markdown",
   "metadata": {},
   "source": [
    "参考ページ: https://stackoverflow.com/questions/52539750/r-how-to-one-hot-encoding-a-single-column-while-keep-other-columns-still\n",
    "なお、spreadをよりモダンなpivotingにアップデートとした。\n",
    "\n",
    "R-059: レシート明細データフレーム（df_receipt）の売上金額（amount）を顧客ID（customer_id）ごとに合計し、合計した売上金額を平均0、標準偏差1に標準化して顧客ID、売上金額合計とともに表示せよ。標準化に使用する標準偏差は、不偏標準偏差と標本標準偏差のどちらでも良いものとする。ただし、顧客IDが\"Z\"から始まるのものは非会員を表すため、除外して計算すること。結果は10件表示させれば良い。"
   ]
  },
  {
   "cell_type": "code",
   "execution_count": 62,
   "metadata": {
    "Rmd_chunk_options": "59",
    "kernel": "R",
    "tags": [
     "report_cell"
    ]
   },
   "outputs": [],
   "source": [
    "scale2 <- function(x, na.rm = FALSE) (x - mean(x, na.rm = na.rm)) / sd(x, na.rm = na.rm)\n",
    "df_receipt %>%\n",
    "  filter(!stringr::str_detect(customer_id, \"^Z\")) %>%\n",
    "  group_by(customer_id) %>%\n",
    "  summarise(total = sum(amount)) %>%\n",
    "  ungroup() %>%\n",
    "  mutate(z_total = scale2(total)) %>%\n",
    "  head(n = 10)"
   ]
  },
  {
   "cell_type": "markdown",
   "metadata": {},
   "source": [
    "R-060: レシート明細データフレーム（df_receipt）の売上金額（amount）を顧客ID（customer_id）ごとに合計し、合計した売上金額を最小値0、最大値1に正規化して顧客ID、売上金額合計とともに表示せよ。ただし、顧客IDが\"Z\"から始まるのものは非会員を表すため、除外して計算すること。結果は10件表示させれば良い。"
   ]
  },
  {
   "cell_type": "code",
   "execution_count": 63,
   "metadata": {
    "Rmd_chunk_options": "60",
    "kernel": "R",
    "tags": [
     "report_cell"
    ]
   },
   "outputs": [],
   "source": [
    "scale_minmax <- function(x, na.rm = FALSE) (x - min(x, na.rm = na.rm)) / (max(x, na.rm = na.rm) - min(x, na.rm = na.rm))\n",
    "df_receipt %>%\n",
    "  filter(!stringr::str_detect(customer_id, \"^Z\")) %>%\n",
    "  group_by(customer_id) %>%\n",
    "  summarise(total = sum(amount)) %>%\n",
    "  ungroup() %>%\n",
    "  mutate(minmaxnormalized_total = scale_minmax(total)) %>%\n",
    "  # pull(minmaxnormalized_total) %>% range()\n",
    "  head(n = 10)"
   ]
  },
  {
   "cell_type": "markdown",
   "metadata": {},
   "source": [
    "R-061: レシート明細データフレーム（df_receipt）の売上金額（amount）を顧客ID（customer_id）ごとに合計し、合計した売上金額を常用対数化（底=10）して顧客ID、売上金額合計とともに表示せよ（ただし、顧客IDが\"Z\"から始まるのものは非会員を表すため、除外して計算すること）。結果は10件表示させれば良い。"
   ]
  },
  {
   "cell_type": "code",
   "execution_count": 64,
   "metadata": {
    "Rmd_chunk_options": "61",
    "kernel": "R",
    "tags": [
     "report_cell"
    ]
   },
   "outputs": [],
   "source": [
    "df_receipt %>%\n",
    "  filter(!stringr::str_detect(customer_id, \"^Z\")) %>%\n",
    "  group_by(customer_id) %>%\n",
    "  summarise(total = sum(amount)) %>%\n",
    "  ungroup() %>%\n",
    "  mutate(log_total = log10(total)) %>%\n",
    "  head(n = 10)"
   ]
  },
  {
   "cell_type": "markdown",
   "metadata": {},
   "source": [
    "R-062: レシート明細データフレーム（df_receipt）の売上金額（amount）を顧客ID（customer_id）ごとに合計し、合計した売上金額を自然対数化(底=e）して顧客ID、売上金額合計とともに表示せよ。ただし、顧客IDが\"Z\"から始まるのものは非会員を表すため、除外して計算すること。結果は10件表示させれば良い。"
   ]
  },
  {
   "cell_type": "code",
   "execution_count": 65,
   "metadata": {
    "Rmd_chunk_options": "62",
    "kernel": "R",
    "tags": [
     "report_cell"
    ]
   },
   "outputs": [],
   "source": [
    "df_receipt %>%\n",
    "  filter(!stringr::str_detect(customer_id, \"^Z\")) %>%\n",
    "  group_by(customer_id) %>%\n",
    "  summarise(total = sum(amount)) %>%\n",
    "  ungroup() %>%\n",
    "  mutate(log_total = log(total)) %>%\n",
    "  head(n = 10)"
   ]
  },
  {
   "cell_type": "markdown",
   "metadata": {},
   "source": [
    "R-063: 商品データフレーム（df_product）の単価（unit_price）と原価（unit_cost）から、各商品の利益額を算出せよ。結果は10件表示させれば良い。"
   ]
  },
  {
   "cell_type": "code",
   "execution_count": 66,
   "metadata": {
    "Rmd_chunk_options": "63",
    "kernel": "R",
    "tags": [
     "report_cell"
    ]
   },
   "outputs": [],
   "source": [
    "df_product %>%\n",
    "  mutate(profit = unit_price - unit_cost) %>%\n",
    "  head(n = 10)"
   ]
  },
  {
   "cell_type": "markdown",
   "metadata": {},
   "source": [
    "R-064: 商品データフレーム（df_product）の単価（unit_price）と原価（unit_cost）から、各商品の利益率の全体平均を算出せよ。 ただし、単価と原価にはNULLが存在することに注意せよ。"
   ]
  },
  {
   "cell_type": "code",
   "execution_count": 67,
   "metadata": {
    "Rmd_chunk_options": "64",
    "kernel": "R",
    "tags": [
     "report_cell"
    ]
   },
   "outputs": [],
   "source": [
    "df_product %>%\n",
    "  mutate(profit_rate = (unit_price - unit_cost)/unit_price) %>%\n",
    "  pull(profit_rate) %>% mean(na.rm = TRUE)"
   ]
  },
  {
   "cell_type": "markdown",
   "metadata": {},
   "source": [
    "R-065: 商品データフレーム（df_product）の各商品について、利益率が30%となる新たな単価を求めよ。ただし、1円未満は切り捨てること。そして結果を10件表示させ、利益率がおよそ30％付近であることを確認せよ。ただし、単価（unit_price）と原価（unit_cost）にはNULLが存在することに注意せよ。"
   ]
  },
  {
   "cell_type": "code",
   "execution_count": 68,
   "metadata": {
    "Rmd_chunk_options": "65",
    "kernel": "R",
    "tags": [
     "report_cell"
    ]
   },
   "outputs": [],
   "source": [
    "df_product %>%\n",
    "  mutate(new_unit_price = trunc((unit_cost/(1 - 0.3))),\n",
    "         new_profit_rate = (new_unit_price - unit_cost)/new_unit_price) %>%\n",
    "  head(n = 10)"
   ]
  },
  {
   "cell_type": "markdown",
   "metadata": {},
   "source": [
    "R-066: 商品データフレーム（df_product）の各商品について、利益率が30%となる新たな単価を求めよ。今回は、1円未満を四捨五入すること（0.5については偶数方向の丸めで良い）。そして結果を10件表示させ、利益率がおよそ30％付近であることを確認せよ。ただし、単価（unit_price）と原価（unit_cost）にはNULLが存在することに注意せよ。"
   ]
  },
  {
   "cell_type": "code",
   "execution_count": 69,
   "metadata": {
    "Rmd_chunk_options": "66",
    "kernel": "R",
    "tags": [
     "report_cell"
    ]
   },
   "outputs": [],
   "source": [
    "df_product %>%\n",
    "  mutate(new_unit_price = round((unit_cost/(1 - 0.3))),\n",
    "         new_profit_rate = (new_unit_price - unit_cost)/new_unit_price) %>%\n",
    "  head(n = 10)"
   ]
  },
  {
   "cell_type": "markdown",
   "metadata": {},
   "source": [
    "R-067: 商品データフレーム（df_product）の各商品について、利益率が30%となる新たな単価を求めよ。今回は、1円未満を切り上げること。そして結果を10件表示させ、利益率がおよそ30％付近であることを確認せよ。ただし、単価（unit_price）と原価（unit_cost）にはNULLが存在することに注意せよ。"
   ]
  },
  {
   "cell_type": "code",
   "execution_count": 70,
   "metadata": {
    "Rmd_chunk_options": "67",
    "kernel": "R",
    "tags": [
     "report_cell"
    ]
   },
   "outputs": [],
   "source": [
    "df_product %>%\n",
    "  mutate(new_unit_price = floor((unit_cost/(1 - 0.3))),\n",
    "         new_profit_rate = (new_unit_price - unit_cost)/new_unit_price) %>%\n",
    "  head(n = 10)"
   ]
  },
  {
   "cell_type": "markdown",
   "metadata": {},
   "source": [
    "R-068: 商品データフレーム（df_product）の各商品について、消費税率10%の税込み金額を求めよ。1円未満の端数は切り捨てとし、結果は10件表示すれば良い。ただし、単価（unit_price）にはNULLが存在することに注意せよ。"
   ]
  },
  {
   "cell_type": "code",
   "execution_count": 71,
   "metadata": {
    "Rmd_chunk_options": "68",
    "kernel": "R",
    "tags": [
     "report_cell"
    ]
   },
   "outputs": [],
   "source": [
    "df_product %>%\n",
    "  mutate(tax_included = floor(unit_price * 1.1)) %>%\n",
    "  head(n = 10)"
   ]
  },
  {
   "cell_type": "markdown",
   "metadata": {},
   "source": [
    "R-069: レシート明細データフレーム（df_receipt）と商品データフレーム（df_product）を結合し、顧客毎に全商品の売上金額合計と、カテゴリ大区分（category_major_cd）が\"07\"（瓶詰缶詰）の売上金額合計を計算の上、両者の比率を求めよ。抽出対象はカテゴリ大区分\"07\"（瓶詰缶詰）の購入実績がある顧客のみとし、結果は10件表示させればよい。"
   ]
  },
  {
   "cell_type": "code",
   "execution_count": 72,
   "metadata": {
    "Rmd_chunk_options": "69",
    "kernel": "R",
    "tags": [
     "report_cell"
    ]
   },
   "outputs": [],
   "source": [
    "df_receipt %>%\n",
    "  left_join(df_product,\n",
    "            by = \"product_cd\") %>%\n",
    "  mutate(amount_07 = if_else(category_major_cd == \"07\", amount, 0)) %>%\n",
    "  group_by(customer_id) %>%\n",
    "  summarise(total = sum(amount),\n",
    "            total_07 = sum(amount_07)) %>%\n",
    "  mutate(total_07/total) %>%\n",
    "  head(n = 10)"
   ]
  },
  {
   "cell_type": "markdown",
   "metadata": {},
   "source": [
    "R-070: レシート明細データフレーム（df_receipt）の売上日（sales_ymd）に対し、顧客データフレーム（df_customer）の会員申込日（application_date）からの経過日数を計算し、顧客ID（customer_id）、売上日、会員申込日とともに表示せよ。結果は10件表示させれば良い（なお、sales_ymdは数値、application_dateは文字列でデータを保持している点に注意）。"
   ]
  },
  {
   "cell_type": "code",
   "execution_count": 73,
   "metadata": {
    "Rmd_chunk_options": "70",
    "kernel": "R",
    "tags": [
     "report_cell"
    ]
   },
   "outputs": [],
   "source": [
    "df_receipt %>%\n",
    "  inner_join(df_customer,\n",
    "            by = \"customer_id\") %>%\n",
    "  mutate(sales_ymd = ymd(sales_ymd),\n",
    "         application_date = ymd(application_date)) %>%\n",
    "  mutate(elapsed_days = sales_ymd - application_date) %>%\n",
    "  select(customer_id, sales_ymd, application_date, elapsed_days) %>%\n",
    "  head(n = 10)"
   ]
  },
  {
   "cell_type": "markdown",
   "metadata": {},
   "source": [
    "R-071: レシート明細データフレーム（df_receipt）の売上日（sales_ymd）に対し、顧客データフレーム（df_customer）の会員申込日（application_date）からの経過月数を計算し、顧客ID（customer_id）、売上日、会員申込日とともに表示せよ。結果は10件表示させれば良い（なお、sales_ymdは数値、application_dateは文字列でデータを保持している点に注意）。1ヶ月未満は切り捨てること。"
   ]
  },
  {
   "cell_type": "code",
   "execution_count": 74,
   "metadata": {
    "Rmd_chunk_options": "71",
    "kernel": "R",
    "tags": [
     "report_cell"
    ]
   },
   "outputs": [],
   "source": [
    "df_receipt %>%\n",
    "  inner_join(df_customer,\n",
    "            by = \"customer_id\") %>%\n",
    "  mutate(sales_ymd = ymd(sales_ymd),\n",
    "         application_date = ymd(application_date)) %>%\n",
    "  mutate(elapsed_days = sales_ymd - application_date,\n",
    "         elapsed_months = interval(application_date, sales_ymd),\n",
    "         elapsed_months = elapsed_months %/% months(1)) %>%\n",
    "  select(customer_id, sales_ymd, application_date, elapsed_days, elapsed_months) %>%\n",
    "  head(n = 10)"
   ]
  },
  {
   "cell_type": "markdown",
   "metadata": {},
   "source": [
    "R-072: レシート明細データフレーム（df_receipt）の売上日（sales_ymd）に対し、顧客データフレーム（df_customer）の会員申込日（application_date）からの経過年数を計算し、顧客ID（customer_id）、売上日、会員申込日とともに表示せよ。結果は10件表示させれば良い（なお、sales_ymdは数値、application_dateは文字列でデータを保持している点に注意）。1年未満は切り捨てること。"
   ]
  },
  {
   "cell_type": "code",
   "execution_count": 75,
   "metadata": {
    "Rmd_chunk_options": "72",
    "kernel": "R",
    "tags": [
     "report_cell"
    ]
   },
   "outputs": [],
   "source": [
    "df_receipt %>%\n",
    "  inner_join(df_customer,\n",
    "            by = \"customer_id\") %>%\n",
    "  mutate(sales_ymd = ymd(sales_ymd),\n",
    "         application_date = ymd(application_date)) %>%\n",
    "  mutate(elapsed_days = sales_ymd - application_date,\n",
    "         elapsed_years = interval(application_date, sales_ymd),\n",
    "         elapsed_years = elapsed_years %/% years(1)) %>%\n",
    "  select(customer_id, sales_ymd, application_date, elapsed_days, elapsed_years) %>%\n",
    "  head(n = 10)"
   ]
  },
  {
   "cell_type": "markdown",
   "metadata": {},
   "source": [
    "R-073: レシート明細データフレーム（df_receipt）の売上日（sales_ymd）に対し、顧客データフレーム（df_customer）の会員申込日（application_date）からのエポック秒による経過時間を計算し、顧客ID（customer_id）、売上日、会員申込日とともに表示せよ。結果は10件表示させれば良い（なお、sales_ymdは数値、application_dateは文字列でデータを保持している点に注意）。なお、時間情報は保有していないため各日付は0時0分0秒を表すものとする。"
   ]
  },
  {
   "cell_type": "code",
   "execution_count": 76,
   "metadata": {
    "Rmd_chunk_options": "73",
    "kernel": "R",
    "tags": [
     "report_cell"
    ]
   },
   "outputs": [],
   "source": [
    "df_receipt %>%\n",
    "  inner_join(df_customer,\n",
    "            by = \"customer_id\") %>%\n",
    "  mutate(sales_ymd = ymd(sales_ymd),\n",
    "         sales_ymd = ymd_hms(paste(sales_ymd, \"00:00:00\")),\n",
    "         application_date = ymd(application_date),\n",
    "         application_date = ymd_hms(paste(application_date, \"00:00:00\"))) %>%\n",
    "  mutate(elapsed_days = sales_ymd - application_date,\n",
    "         elapsed_seconds = interval(application_date, sales_ymd),\n",
    "         elapsed_seconds = elapsed_seconds %/% seconds(1)) %>%\n",
    "  select(customer_id, sales_ymd, application_date, elapsed_seconds) %>%\n",
    "  head(n = 10)"
   ]
  },
  {
   "cell_type": "markdown",
   "metadata": {},
   "source": [
    "R-074: レシート明細データフレーム（df_receipt）の売上日（sales_ymd）に対し、当該週の月曜日からの経過日数を計算し、顧客ID、売上日、当該週の月曜日付とともに表示せよ。結果は10件表示させれば良い（なお、sales_ymdは数値でデータを保持している点に注意）。"
   ]
  },
  {
   "cell_type": "code",
   "execution_count": 77,
   "metadata": {
    "Rmd_chunk_options": "74",
    "kernel": "R",
    "tags": [
     "report_cell"
    ]
   },
   "outputs": [],
   "source": [
    "df_receipt %>%\n",
    "  mutate(sales_ymd = ymd(sales_ymd),\n",
    "         last_monday = floor_date(sales_ymd, \"week\", 1),\n",
    "         sales_wday = interval(last_monday, sales_ymd) %/% days(1)) %>%\n",
    "  select(customer_id, sales_ymd, last_monday, sales_wday) %>%\n",
    "  head(n = 10)"
   ]
  },
  {
   "cell_type": "markdown",
   "metadata": {},
   "source": [
    "参考ページ: https://community.rstudio.com/t/find-the-date-last-monday/34204\n",
    "library(lubridate)\n",
    "floor_date(today(), \"week\", 1) # if Monday the current day\n",
    "floor_date(today() - 1, \"week\", 1) # if Monday the previous Monday"
   ]
  },
  {
   "cell_type": "code",
   "execution_count": 78,
   "metadata": {
    "Rmd_chunk_options": "74-2",
    "kernel": "R",
    "tags": [
     "report_cell"
    ]
   },
   "outputs": [],
   "source": [
    "df_receipt %>%\n",
    "  mutate(sales_ymd = ymd(sales_ymd),\n",
    "         last_monday = floor_date(sales_ymd, \"week\", 1),\n",
    "         sales_wday = wday(sales_ymd, week_start = 1) - 1) %>%\n",
    "  select(customer_id, sales_ymd, last_monday, sales_wday) %>%\n",
    "  head(n = 10)"
   ]
  },
  {
   "cell_type": "markdown",
   "metadata": {},
   "source": [
    "参考ページ: https://lubridate.tidyverse.org/reference/day.html\n",
    "\n",
    "R-075: 顧客データフレーム（df_customer）からランダムに1%のデータを抽出し、先頭から10件データを抽出せよ。"
   ]
  },
  {
   "cell_type": "code",
   "execution_count": 79,
   "metadata": {
    "Rmd_chunk_options": "75",
    "kernel": "R",
    "tags": [
     "report_cell"
    ]
   },
   "outputs": [],
   "source": [
    "set.seed(3456)\n",
    "index_extracted <- createDataPartition(1:NROW(df_customer), p = 0.01,\n",
    "                                  list = FALSE,\n",
    "                                  times = 1)\n",
    "df_customer %>%\n",
    "  slice(index_extracted) %>%\n",
    "  head(n = 10)"
   ]
  },
  {
   "cell_type": "markdown",
   "metadata": {},
   "source": [
    "参考ページ: https://topepo.github.io/caret/data-splitting.html\n",
    "\n",
    "\n",
    "R-076: 顧客データフレーム（df_customer）から性別（gender_cd）の割合に基づきランダムに10%のデータを層化抽出データし、性別ごとに件数を集計せよ。"
   ]
  },
  {
   "cell_type": "code",
   "execution_count": 80,
   "metadata": {
    "Rmd_chunk_options": "76",
    "kernel": "R",
    "tags": [
     "report_cell"
    ]
   },
   "outputs": [],
   "source": [
    "set.seed(3456)\n",
    "index_extracted <- createDataPartition(df_customer$gender_cd, p = 0.1,\n",
    "                                  list = FALSE,\n",
    "                                  times = 1)\n",
    "df_customer %>%\n",
    "  slice(index_extracted) %>%\n",
    "  group_by(gender) %>%\n",
    "  summarise(n = n())"
   ]
  },
  {
   "cell_type": "markdown",
   "metadata": {},
   "source": [
    "R-077: レシート明細データフレーム（df_receipt）の売上金額（amount）を顧客単位に合計し、合計した売上金額の外れ値を抽出せよ。ただし、顧客IDが\"Z\"から始まるのものは非会員を表すため、除外して計算すること。なお、ここでは外れ値を平均から3σ以上離れたものとする。結果は10件表示させれば良い。"
   ]
  },
  {
   "cell_type": "code",
   "execution_count": 81,
   "metadata": {
    "Rmd_chunk_options": "77",
    "kernel": "R",
    "tags": [
     "report_cell"
    ]
   },
   "outputs": [],
   "source": [
    "df_total_amount <- df_receipt %>%\n",
    "  filter(!stringr::str_detect(customer_id, \"^Z\")) %>%\n",
    "  group_by(customer_id) %>%\n",
    "  summarise(total = sum(amount))\n",
    "df_total_amount %>%\n",
    "  mutate(z_total = scale2(total)) %>%\n",
    "  filter(abs(z_total) >= 3) %>%\n",
    "  head(n = 10)"
   ]
  },
  {
   "cell_type": "markdown",
   "metadata": {},
   "source": [
    "R-078: レシート明細データフレーム（df_receipt）の売上金額（amount）を顧客単位に合計し、合計した売上金額の外れ値を抽出せよ。ただし、顧客IDが\"Z\"から始まるのものは非会員を表すため、除外して計算すること。なお、ここでは外れ値を第一四分位と第三四分位の差であるIQRを用いて、「第一四分位数-1.5×IQR」よりも下回るもの、または「第三四分位数+1.5×IQR」を超えるものとする。結果は10件表示させれば良い。"
   ]
  },
  {
   "cell_type": "code",
   "execution_count": 82,
   "metadata": {
    "Rmd_chunk_options": "78",
    "kernel": "R",
    "tags": [
     "report_cell"
    ]
   },
   "outputs": [],
   "source": [
    "df_total_amount %>%\n",
    "  filter(total < quantile(total)[2] - 1.5 * IQR(total) |\n",
    "           total > quantile(total)[4] + 1.5 * IQR(total)) %>%\n",
    "  head(n = 10)"
   ]
  },
  {
   "cell_type": "markdown",
   "metadata": {},
   "source": [
    "R-079: 商品データフレーム（df_product）の各項目に対し、欠損数を確認せよ。"
   ]
  },
  {
   "cell_type": "code",
   "execution_count": 83,
   "metadata": {
    "Rmd_chunk_options": "79",
    "kernel": "R",
    "tags": [
     "report_cell"
    ]
   },
   "outputs": [],
   "source": [
    "df_product %>%\n",
    "  naniar::miss_var_summary()\n",
    "df_product %>%\n",
    "  naniar::gg_miss_var()\n",
    "df_product %>%\n",
    "  naniar::gg_miss_upset()"
   ]
  },
  {
   "cell_type": "markdown",
   "metadata": {},
   "source": [
    "R-080: 商品データフレーム（df_product）のいずれかの項目に欠損が発生しているレコードを全て削除した新たなdf_product_1を作成せよ。なお、削除前後の件数を表示させ、前設問で確認した件数だけ減少していることも確認すること。"
   ]
  },
  {
   "cell_type": "code",
   "execution_count": 84,
   "metadata": {
    "Rmd_chunk_options": "80",
    "kernel": "R",
    "tags": [
     "report_cell"
    ]
   },
   "outputs": [],
   "source": [
    "df_product_1 <- df_product %>%\n",
    "  na.omit()\n",
    "NROW(df_product) - NROW(df_product_1)"
   ]
  },
  {
   "cell_type": "markdown",
   "metadata": {},
   "source": [
    "R-081: 単価（unit_price）と原価（unit_cost）の欠損値について、それぞれの平均値で補完した新たなdf_product_2を作成せよ。なお、平均値について1円未満は四捨五入とし、0.5については偶数寄せでかまわない。補完実施後、各項目について欠損が生じていないことも確認すること。"
   ]
  },
  {
   "cell_type": "code",
   "execution_count": 85,
   "metadata": {
    "Rmd_chunk_options": "81",
    "kernel": "R",
    "tags": [
     "report_cell"
    ]
   },
   "outputs": [],
   "source": [
    "df_product_2 <- df_product %>%\n",
    "  tidyr::replace_na(list(unit_price = round(mean(.$unit_price, na.rm = TRUE)),\n",
    "                         unit_cost = round(mean(.$unit_cost, na.rm = TRUE))))\n",
    "df_product_2 %>%\n",
    "  naniar::miss_var_summary()"
   ]
  },
  {
   "cell_type": "markdown",
   "metadata": {},
   "source": [
    "参考ページ: https://tidyr.tidyverse.org/reference/replace_na.html\n",
    "\n",
    "\n",
    "R-082: 単価（unit_price）と原価（unit_cost）の欠損値について、それぞれの中央値で補完した新たなdf_product_3を作成せよ。なお、中央値について1円未満は四捨五入とし、0.5については偶数寄せでかまわない。補完実施後、各項目について欠損が生じていないことも確認すること。"
   ]
  },
  {
   "cell_type": "code",
   "execution_count": 86,
   "metadata": {
    "Rmd_chunk_options": "82",
    "kernel": "R",
    "tags": [
     "report_cell"
    ]
   },
   "outputs": [],
   "source": [
    "df_product_3 <- df_product %>%\n",
    "  tidyr::replace_na(list(unit_price = round(median(.$unit_price, na.rm = TRUE)),\n",
    "                         unit_cost = round(median(.$unit_cost, na.rm = TRUE))))\n",
    "df_product_3 %>%\n",
    "  naniar::miss_var_summary()"
   ]
  },
  {
   "cell_type": "markdown",
   "metadata": {},
   "source": [
    "R-083: 単価（unit_price）と原価（unit_cost）の欠損値について、各商品の小区分（category_small_cd）ごとに算出した中央値で補完した新たなdf_product_4を作成せよ。なお、中央値について1円未満は四捨五入とし、0.5については偶数寄せでかまわない。補完実施後、各項目について欠損が生じていないことも確認すること。"
   ]
  },
  {
   "cell_type": "code",
   "execution_count": 87,
   "metadata": {
    "Rmd_chunk_options": "83",
    "kernel": "R",
    "tags": [
     "report_cell"
    ]
   },
   "outputs": [],
   "source": [
    "df_median_up_uc <- df_product %>%\n",
    "  group_by(category_small_cd) %>%\n",
    "  summarise(median_up = median(unit_price, na.rm = TRUE) %>% round(),\n",
    "            median_uc = median(unit_cost, na.rm = TRUE) %>% round())\n",
    "df_product_4 <- df_product %>%\n",
    "  left_join(df_median_up_uc,\n",
    "            by = \"category_small_cd\") %>%\n",
    "  mutate(unit_price = if_else(is.na(unit_price), median_up, unit_price),\n",
    "         unit_cost = if_else(is.na(unit_cost), median_uc, unit_cost)) %>%\n",
    "  select(-c(median_up, median_uc))\n",
    "df_product_4 %>%\n",
    "  naniar::miss_var_summary()"
   ]
  },
  {
   "cell_type": "markdown",
   "metadata": {},
   "source": [
    "R-084: 顧客データフレーム（df_customer）の全顧客に対し、全期間の売上金額に占める2019年売上金額の割合を計算せよ。ただし、販売実績のない場合は0として扱うこと。そして計算した割合が0超のものを抽出せよ。 結果は10件表示させれば良い。また、作成したデータにNAやNANが存在しないことを確認せよ。"
   ]
  },
  {
   "cell_type": "code",
   "execution_count": 88,
   "metadata": {
    "Rmd_chunk_options": "84",
    "kernel": "R",
    "tags": [
     "report_cell"
    ]
   },
   "outputs": [],
   "source": [
    "df_total_amount <- df_receipt %>%\n",
    "  group_by(customer_id) %>%\n",
    "  summarise(total = sum(amount))\n",
    "df_total_amount2019 <- df_receipt %>%\n",
    "  mutate(year = year(ymd(sales_ymd))) %>%\n",
    "  filter(year == 2019) %>%\n",
    "  group_by(customer_id) %>%\n",
    "  summarise(total2019 = sum(amount))\n",
    "df_amount2019positive <- df_total_amount %>%\n",
    "  left_join(df_total_amount2019,\n",
    "            by = \"customer_id\") %>%\n",
    "  mutate(ratio_total_amount2019 = total2019/total,\n",
    "         ratio_total_amount2019 = if_else(is.na(ratio_total_amount2019), 0, ratio_total_amount2019)) %>%\n",
    "  filter(ratio_total_amount2019 > 0)\n",
    "df_amount2019positive %>%\n",
    "  select(customer_id, total2019, total, ratio_total_amount2019) %>%\n",
    "  head(n = 10)\n",
    "df_amount2019positive %>%\n",
    "  naniar::miss_var_summary()"
   ]
  },
  {
   "cell_type": "markdown",
   "metadata": {},
   "source": [
    "R-085: 郵便番号（postal_cd）を用いて経度緯度変換用データフレーム（df_geocode）を紐付け、新たなdf_customer_1を作成せよ。ただし、複数紐づく場合は経度（longitude）、緯度（latitude）それぞれ平均を算出すること。"
   ]
  },
  {
   "cell_type": "code",
   "execution_count": 89,
   "metadata": {
    "kernel": "R",
    "tags": [
     "report_cell"
    ]
   },
   "outputs": [],
   "source": [
    "df_geocode2 <- df_geocode %>%\n",
    "  group_by(postal_cd) %>%\n",
    "  summarise(longitude = mean(longitude),\n",
    "            latitude = mean(latitude))\n",
    "df_customer_1 <- df_customer %>%\n",
    "  left_join(df_geocode2,\n",
    "            by = \"postal_cd\")\n",
    "df_customer_1 %>%\n",
    "  head(n = 10)"
   ]
  },
  {
   "cell_type": "markdown",
   "metadata": {},
   "source": [
    "R-086: 前設問で作成した緯度経度つき顧客データフレーム（df_customer_1）に対し、申込み店舗コード（application_store_cd）をキーに店舗データフレーム（df_store）と結合せよ。そして申込み店舗の緯度（latitude）・経度情報（longitude)と顧客の緯度・経度を用いて距離（km）を求め、顧客ID（customer_id）、顧客住所（address）、店舗住所（address）とともに表示せよ。計算式は簡易式で良いものとするが、その他精度の高い方式を利用したライブラリを利用してもかまわない。結果は10件表示すれば良い。"
   ]
  },
  {
   "cell_type": "code",
   "execution_count": 90,
   "metadata": {
    "Rmd_chunk_options": "86",
    "kernel": "R",
    "tags": [
     "report_cell"
    ]
   },
   "outputs": [],
   "source": [
    "df_customer_1 %>%\n",
    "  left_join(df_store %>%\n",
    "              rename(application_store_cd = store_cd,\n",
    "                     store_address = address,\n",
    "                     latitude2 = latitude,\n",
    "                     longitude2 = longitude),\n",
    "            by = \"application_store_cd\") %>%\n",
    "  mutate(dist = gmt::geodist(latitude, longitude, latitude2, longitude2, units=\"km\")) %>%\n",
    "  select(customer_id, address, store_address, dist) %>%\n",
    "  head(n = 10)"
   ]
  },
  {
   "cell_type": "markdown",
   "metadata": {},
   "source": [
    "参考ページ: https://www.rdocumentation.org/packages/gmt/versions/1.2-0/topics/geodist\n",
    "\n",
    "\n",
    "R-087: 顧客データフレーム（df_customer）では、異なる店舗での申込みなどにより同一顧客が複数登録されている。名前（customer_name）と郵便番号（postal_cd）が同じ顧客は同一顧客とみなし、1顧客1レコードとなるように名寄せした名寄顧客データフレーム（df_customer_u）を作成せよ。ただし、同一顧客に対しては売上金額合計が最も高いものを残すものとし、売上金額合計が同一もしくは売上実績の無い顧客については顧客ID（customer_id）の番号が小さいものを残すこととする。"
   ]
  },
  {
   "cell_type": "code",
   "execution_count": 91,
   "metadata": {
    "Rmd_chunk_options": "87",
    "kernel": "R",
    "tags": [
     "report_cell"
    ]
   },
   "outputs": [],
   "source": [
    "df_total_amount_ugp <- df_receipt %>%\n",
    "  group_by(customer_id) %>%\n",
    "  summarise(total = sum(amount)) %>%\n",
    "  ungroup()\n",
    "df_customer_u <- df_customer %>%\n",
    "  left_join(df_total_amount_ugp, by = \"customer_id\") %>%\n",
    "  group_by(customer_name, postal_cd) %>%\n",
    "  arrange(-total, customer_id) %>%\n",
    "  mutate(idx = row_number()) %>%\n",
    "  filter(idx == 1) %>%\n",
    "  select(-idx)\n",
    "df_customer_u %>% head(n = 10)"
   ]
  },
  {
   "cell_type": "markdown",
   "metadata": {},
   "source": [
    "R-088: 前設問で作成したデータを元に、顧客データフレームに統合名寄IDを付与したデータフレーム（df_customer_n）を作成せよ。ただし、統合名寄IDは以下の仕様で付与するものとする。\n",
    "\n",
    "重複していない顧客：顧客ID（customer_id）を設定\n",
    "重複している顧客：前設問で抽出したレコードの顧客IDを設定"
   ]
  },
  {
   "cell_type": "code",
   "execution_count": 92,
   "metadata": {
    "Rmd_chunk_options": "88",
    "kernel": "R",
    "tags": [
     "report_cell"
    ]
   },
   "outputs": [],
   "source": [
    "df_customer_n <- df_customer %>%\n",
    "  left_join(df_customer_u %>% select(customer_id, customer_name, postal_cd) %>%\n",
    "              rename(customer_id_integrated = customer_id),\n",
    "            by = c(\"customer_name\", \"postal_cd\"))\n",
    "df_customer_n %>%\n",
    "  filter(customer_id != customer_id_integrated) %>%\n",
    "  head(n = 10)"
   ]
  },
  {
   "cell_type": "markdown",
   "metadata": {},
   "source": [
    "R-089: 売上実績のある顧客に対し、予測モデル構築のため学習用データとテスト用データに分割したい。それぞれ8:2の割合でランダムにデータを分割せよ。"
   ]
  },
  {
   "cell_type": "code",
   "execution_count": 93,
   "metadata": {
    "Rmd_chunk_options": "89",
    "kernel": "R",
    "tags": [
     "report_cell"
    ]
   },
   "outputs": [],
   "source": [
    "df_total_amount <- df_receipt %>%\n",
    "  group_by(customer_id) %>%\n",
    "  summarise(total = sum(amount))\n",
    "df_customer2 <- df_customer %>%\n",
    "  inner_join(df_total_amount,\n",
    "             by = \"customer_id\")\n",
    "set.seed(3456)\n",
    "index_extracted <- createDataPartition(1:NROW(df_customer2), p = 0.8,\n",
    "                                  list = FALSE,\n",
    "                                  times = 1)\n",
    "df_train <- df_customer2 %>%\n",
    "  slice(index_extracted)\n",
    "df_test <- df_customer2 %>%\n",
    "  slice(-index_extracted)\n",
    "df_train %>% NROW()\n",
    "df_test %>% NROW()"
   ]
  },
  {
   "cell_type": "markdown",
   "metadata": {},
   "source": [
    "R-090: レシート明細データフレーム（df_receipt）は2017年1月1日〜2019年10月31日までのデータを有している。売上金額（amount）を月次で集計し、学習用に12ヶ月、テスト用に6ヶ月のモデル構築用データを3セット作成せよ。"
   ]
  },
  {
   "cell_type": "code",
   "execution_count": 94,
   "metadata": {
    "Rmd_chunk_options": "90",
    "kernel": "R",
    "tags": [
     "report_cell"
    ]
   },
   "outputs": [],
   "source": [
    "df_total_amount_by_month <- df_receipt %>%\n",
    "  mutate(sales_ymd = ymd(sales_ymd),\n",
    "         year = year(sales_ymd),\n",
    "         month = month(sales_ymd)) %>%\n",
    "  group_by(year, month) %>%\n",
    "  summarise(total = sum(amount)) %>%\n",
    "  mutate(ym = paste0(year, month) %>% as.numeric())\n",
    "df_train1 <- df_total_amount_by_month %>%\n",
    "  filter(year == 2017)\n",
    "df_test1 <- df_total_amount_by_month %>%\n",
    "  filter(year == 2018, month %in% 1:6)\n",
    "df_train2 <- df_total_amount_by_month %>%\n",
    "  filter(ym >= 201709, ym <= 201808)\n",
    "df_test2 <- df_total_amount_by_month %>%\n",
    "  filter(ym >= 201809, ym <= 201902)\n",
    "df_train3 <- df_total_amount_by_month %>%\n",
    "  filter(ym >= 201805, ym <= 201904)\n",
    "df_test3 <- df_total_amount_by_month %>%\n",
    "  filter(ym >= 201905, ym <= 201910)"
   ]
  },
  {
   "cell_type": "markdown",
   "metadata": {},
   "source": [
    "R-091: 顧客データフレーム（df_customer）の各顧客に対し、売上実績のある顧客数と売上実績のない顧客数が1:1となるようにアンダーサンプリングで抽出せよ。"
   ]
  },
  {
   "cell_type": "code",
   "execution_count": 95,
   "metadata": {
    "Rmd_chunk_options": "91",
    "kernel": "R",
    "tags": [
     "report_cell"
    ]
   },
   "outputs": [],
   "source": [
    "df_receipt %>% pull(customer_id) %>% unique() %>% NROW()\n",
    "df_customer %>% pull(customer_id) %>% unique() %>% NROW()\n",
    "\n",
    "df_customer %>%\n",
    "  mutate(sales = if_else(customer_id %in% unique(df_receipt$customer_id), \"yes\", \"no\")) %>%\n",
    "  caret::downSample(y = factor(.$sales)) %>%\n",
    "  group_by(Class) %>%\n",
    "  summarise(n = n())\n",
    "setdiff(unique(df_receipt$customer_id), unique(df_customer$customer_id))"
   ]
  },
  {
   "cell_type": "markdown",
   "metadata": {},
   "source": [
    "参考ページ: https://rdrr.io/cran/caret/man/downSample.html\n",
    "\n",
    "R-092: 顧客データフレーム（df_customer）では、性別に関する情報が非正規化の状態で保持されている。これを第三正規化せよ。"
   ]
  },
  {
   "cell_type": "code",
   "execution_count": 96,
   "metadata": {
    "Rmd_chunk_options": "92",
    "kernel": "R",
    "tags": [
     "report_cell"
    ]
   },
   "outputs": [],
   "source": [
    "df_customer2 <- df_customer %>%\n",
    "  select(-gender)\n",
    "df_gender <- df_customer %>%\n",
    "  select(gender_cd, gender) %>%\n",
    "  unique()\n",
    "df_customer2 %>%\n",
    "  head()\n",
    "df_gender"
   ]
  },
  {
   "cell_type": "markdown",
   "metadata": {},
   "source": [
    "参考ページ: http://ext-web.edu.sgu.ac.jp/HIKO/Prog03/SenpaiKyozai/shiohara/formalize.html\n",
    "\n",
    "R-093: 商品データフレーム（df_product）では各カテゴリのコード値だけを保有し、カテゴリ名は保有していない。カテゴリデータフレーム（df_category）と組み合わせて非正規化し、カテゴリ名を保有した新たな商品データフレームを作成せよ。"
   ]
  },
  {
   "cell_type": "code",
   "execution_count": 97,
   "metadata": {
    "Rmd_chunk_options": "93",
    "kernel": "R",
    "tags": [
     "report_cell"
    ]
   },
   "outputs": [],
   "source": [
    "df_product %>%\n",
    "  left_join(df_category,\n",
    "            by = c(\"category_major_cd\", \"category_medium_cd\", \"category_small_cd\")) %>%\n",
    "  head(n = 10)"
   ]
  },
  {
   "cell_type": "markdown",
   "metadata": {},
   "source": [
    "R-094: 先に作成したカテゴリ名付き商品データを以下の仕様でファイル出力せよ。なお、出力先のパスはdata配下とする。\n",
    "\n",
    "ファイル形式はCSV（カンマ区切り）\n",
    "ヘッダ有り\n",
    "文字コードはUTF-8"
   ]
  },
  {
   "cell_type": "code",
   "execution_count": 98,
   "metadata": {
    "Rmd_chunk_options": "94",
    "kernel": "R",
    "tags": [
     "report_cell"
    ]
   },
   "outputs": [],
   "source": [
    "df_product %>%\n",
    "  left_join(df_category,\n",
    "            by = c(\"category_major_cd\", \"category_medium_cd\", \"category_small_cd\")) %>%\n",
    "  write_csv(\"./data/df_product_with_caregory_names.csv\")"
   ]
  },
  {
   "cell_type": "markdown",
   "metadata": {},
   "source": [
    "R-095: 先に作成したカテゴリ名付き商品データを以下の仕様でファイル出力せよ。なお、出力先のパスはdata配下とする。\n",
    "\n",
    "ファイル形式はCSV（カンマ区切り）\n",
    "ヘッダ有り\n",
    "文字コードはCP932"
   ]
  },
  {
   "cell_type": "code",
   "execution_count": 99,
   "metadata": {
    "Rmd_chunk_options": "95",
    "kernel": "R",
    "tags": [
     "report_cell"
    ]
   },
   "outputs": [],
   "source": [
    "df_product %>%\n",
    "  left_join(df_category,\n",
    "            by = c(\"category_major_cd\", \"category_medium_cd\", \"category_small_cd\")) %>%\n",
    "  write.csv(\"./data/df_product_with_caregory_names_in_CP932.csv\", fileEncoding = \"CP932\")"
   ]
  },
  {
   "cell_type": "markdown",
   "metadata": {},
   "source": [
    "R-096: 先に作成したカテゴリ名付き商品データを以下の仕様でファイル出力せよ。なお、出力先のパスはdata 配下とする。\n",
    "\n",
    "ファイル形式はCSV（カンマ区切り）\n",
    "ヘッダ無し\n",
    "文字コードはUTF-8"
   ]
  },
  {
   "cell_type": "code",
   "execution_count": 100,
   "metadata": {
    "Rmd_chunk_options": "96",
    "kernel": "R",
    "tags": [
     "report_cell"
    ]
   },
   "outputs": [],
   "source": [
    "df_product %>%\n",
    "  left_join(df_category,\n",
    "            by = c(\"category_major_cd\", \"category_medium_cd\", \"category_small_cd\")) %>%\n",
    "  write_csv(\"./data/df_product_with_caregory_names_wo_header.csv\", col_names = FALSE)"
   ]
  },
  {
   "cell_type": "markdown",
   "metadata": {},
   "source": [
    "R-097: 先に作成した以下形式のファイルを読み込み、データフレームを作成せよ。また、先頭10件を表示させ、正しくとりまれていることを確認せよ。\n",
    "\n",
    "ファイル形式はCSV（カンマ区切り）\n",
    "ヘッダ有り\n",
    "文字コードはUTF-8"
   ]
  },
  {
   "cell_type": "code",
   "execution_count": 101,
   "metadata": {
    "Rmd_chunk_options": "97",
    "kernel": "R",
    "tags": [
     "report_cell"
    ]
   },
   "outputs": [],
   "source": [
    "read_csv(\"./data/df_product_with_caregory_names.csv\") %>%\n",
    "  head(n = 10)"
   ]
  },
  {
   "cell_type": "markdown",
   "metadata": {},
   "source": [
    "R-098: 先に作成した以下形式のファイルを読み込み、データフレームを作成せよ。また、先頭10件を表示させ、正しくとりまれていることを確認せよ。\n",
    "\n",
    "ファイル形式はCSV（カンマ区切り）\n",
    "ヘッダ無し\n",
    "文字コードはUTF-8"
   ]
  },
  {
   "cell_type": "code",
   "execution_count": 102,
   "metadata": {
    "Rmd_chunk_options": "98",
    "kernel": "R",
    "tags": [
     "report_cell"
    ]
   },
   "outputs": [],
   "source": [
    "read_csv(\"./data/df_product_with_caregory_names_wo_header.csv\") %>%\n",
    "  head(n = 10)"
   ]
  },
  {
   "cell_type": "markdown",
   "metadata": {},
   "source": [
    "R-099: 先に作成したカテゴリ名付き商品データを以下の仕様でファイル出力せよ。なお、出力先のパスはdata配下とする。\n",
    "\n",
    "ファイル形式はTSV（タブ区切り）\n",
    "ヘッダ有り\n",
    "文字コードはUTF-8"
   ]
  },
  {
   "cell_type": "code",
   "execution_count": 103,
   "metadata": {
    "Rmd_chunk_options": "99",
    "kernel": "R",
    "tags": [
     "report_cell"
    ]
   },
   "outputs": [],
   "source": [
    "df_product %>%\n",
    "  left_join(df_category,\n",
    "            by = c(\"category_major_cd\", \"category_medium_cd\", \"category_small_cd\")) %>%\n",
    "  write_tsv(\"./data/df_product_with_caregory_names.tsv\")"
   ]
  },
  {
   "cell_type": "markdown",
   "metadata": {},
   "source": [
    "R-100: 先に作成した以下形式のファイルを読み込み、データフレームを作成せよ。また、先頭10件を表示させ、正しくとりまれていることを確認せよ。\n",
    "\n",
    "ファイル形式はTSV（タブ区切り）\n",
    "ヘッダ有り\n",
    "文字コードはUTF-8"
   ]
  },
  {
   "cell_type": "code",
   "execution_count": 104,
   "metadata": {
    "Rmd_chunk_options": "100",
    "kernel": "R",
    "tags": [
     "report_cell"
    ]
   },
   "outputs": [],
   "source": [
    "read_tsv(\"./data/df_product_with_caregory_names.tsv\") %>%\n",
    "  head(n = 10)"
   ]
  },
  {
   "cell_type": "code",
   "execution_count": 105,
   "metadata": {
    "Rmd_chunk_options": "sessioninfo",
    "kernel": "R",
    "tags": [
     "report_cell"
    ]
   },
   "outputs": [],
   "source": [
    "sessionInfo()"
   ]
  },
  {
   "cell_type": "markdown",
   "metadata": {},
   "source": [
    "### 以上！！"
   ]
  }
 ],
 "metadata": {
  "Rmd_chunk_options": {
   "author": "Tetsuo Ishikawa",
   "output": {
    "html_document": {
     "df_print": "paged",
     "highlight": "zenburn",
     "theme": "darkly"
    }
   },
   "title": "データサイエンス100本ノック（構造化データ加工編） - R編 Notebook"
  },
  "kernelspec": {
   "display_name": "R",
   "language": "R",
   "name": "ir"
  },
  "language_info": {
   "codemirror_mode": "r",
   "file_extension": ".r",
   "mimetype": "text/x-r-source",
   "name": "R",
   "pygments_lexer": "r",
   "version": "3.6.3"
  },
  "sos": {
   "kernels": [
    [
     "SoS",
     "sos",
     "",
     ""
    ],
    [
     "R",
     "ir",
     "",
     ""
    ]
   ]
  }
 },
 "nbformat": 4,
 "nbformat_minor": 4
}
